{
 "cells": [
  {
   "cell_type": "code",
   "execution_count": 1,
   "metadata": {},
   "outputs": [],
   "source": [
    "# imports\n",
    "%matplotlib inline\n",
    "import matplotlib.pyplot as plt\n",
    "import pandas as pd\n",
    "import numpy as np\n",
    "plt.style.use('seaborn')"
   ]
  },
  {
   "cell_type": "code",
   "execution_count": 2,
   "metadata": {},
   "outputs": [],
   "source": [
    "# choose random seeds\n",
    "np.random.seed(0)\n",
    "seeds = np.random.permutation(1000)[:25]"
   ]
  },
  {
   "cell_type": "code",
   "execution_count": 3,
   "metadata": {},
   "outputs": [],
   "source": [
    "from sksurv.datasets import load_gbsg2\n",
    "\n",
    "X, y = load_gbsg2()"
   ]
  },
  {
   "cell_type": "code",
   "execution_count": 4,
   "metadata": {},
   "outputs": [],
   "source": [
    "# function to transform y (a numpy nd array) to a dataframe\n",
    "def target2df(y):\n",
    "    event = [y[i][0] for i in range(len(y))]\n",
    "    time = [y[i][1] for i in range(len(y))]\n",
    "    df_y = pd.DataFrame(data={'time': time, 'cens': event})\n",
    "    return df_y"
   ]
  },
  {
   "cell_type": "code",
   "execution_count": 5,
   "metadata": {},
   "outputs": [
    {
     "data": {
      "text/html": [
       "<div>\n",
       "<style scoped>\n",
       "    .dataframe tbody tr th:only-of-type {\n",
       "        vertical-align: middle;\n",
       "    }\n",
       "\n",
       "    .dataframe tbody tr th {\n",
       "        vertical-align: top;\n",
       "    }\n",
       "\n",
       "    .dataframe thead th {\n",
       "        text-align: right;\n",
       "    }\n",
       "</style>\n",
       "<table border=\"1\" class=\"dataframe\">\n",
       "  <thead>\n",
       "    <tr style=\"text-align: right;\">\n",
       "      <th></th>\n",
       "      <th>time</th>\n",
       "      <th>cens</th>\n",
       "    </tr>\n",
       "  </thead>\n",
       "  <tbody>\n",
       "    <tr>\n",
       "      <th>0</th>\n",
       "      <td>1814.0</td>\n",
       "      <td>True</td>\n",
       "    </tr>\n",
       "    <tr>\n",
       "      <th>1</th>\n",
       "      <td>2018.0</td>\n",
       "      <td>True</td>\n",
       "    </tr>\n",
       "    <tr>\n",
       "      <th>2</th>\n",
       "      <td>712.0</td>\n",
       "      <td>True</td>\n",
       "    </tr>\n",
       "    <tr>\n",
       "      <th>3</th>\n",
       "      <td>1807.0</td>\n",
       "      <td>True</td>\n",
       "    </tr>\n",
       "    <tr>\n",
       "      <th>4</th>\n",
       "      <td>772.0</td>\n",
       "      <td>True</td>\n",
       "    </tr>\n",
       "    <tr>\n",
       "      <th>5</th>\n",
       "      <td>448.0</td>\n",
       "      <td>True</td>\n",
       "    </tr>\n",
       "    <tr>\n",
       "      <th>6</th>\n",
       "      <td>2172.0</td>\n",
       "      <td>False</td>\n",
       "    </tr>\n",
       "    <tr>\n",
       "      <th>7</th>\n",
       "      <td>2161.0</td>\n",
       "      <td>False</td>\n",
       "    </tr>\n",
       "    <tr>\n",
       "      <th>8</th>\n",
       "      <td>471.0</td>\n",
       "      <td>True</td>\n",
       "    </tr>\n",
       "    <tr>\n",
       "      <th>9</th>\n",
       "      <td>2014.0</td>\n",
       "      <td>False</td>\n",
       "    </tr>\n",
       "  </tbody>\n",
       "</table>\n",
       "</div>"
      ],
      "text/plain": [
       "     time   cens\n",
       "0  1814.0   True\n",
       "1  2018.0   True\n",
       "2   712.0   True\n",
       "3  1807.0   True\n",
       "4   772.0   True\n",
       "5   448.0   True\n",
       "6  2172.0  False\n",
       "7  2161.0  False\n",
       "8   471.0   True\n",
       "9  2014.0  False"
      ]
     },
     "execution_count": 5,
     "metadata": {},
     "output_type": "execute_result"
    }
   ],
   "source": [
    "# show the first 10 rows\n",
    "df_y = target2df(y)\n",
    "df_y.head(10)"
   ]
  },
  {
   "cell_type": "code",
   "execution_count": 6,
   "metadata": {},
   "outputs": [
    {
     "name": "stdout",
     "output_type": "stream",
     "text": [
      "samples: 686\n",
      "features/covariables: 8\n",
      "\n",
      "right censored samples: 387\n",
      "percentage of right censored samples: 56.4%\n"
     ]
    }
   ],
   "source": [
    "# number of samples, number of features/covariables\n",
    "print(f'samples: {X.shape[0]}')\n",
    "print(f'features/covariables: {X.shape[1]}\\n')\n",
    "print(f'right censored samples: {len(df_y.query(\"cens == False\"))}')\n",
    "print(f'percentage of right censored samples: {100*len(df_y.query(\"cens == False\"))/len(df_y):.1f}%')"
   ]
  },
  {
   "cell_type": "code",
   "execution_count": 7,
   "metadata": {},
   "outputs": [
    {
     "name": "stdout",
     "output_type": "stream",
     "text": [
      "Number of training samples: 514\n",
      "Number of validation samples: 172\n"
     ]
    }
   ],
   "source": [
    "from sklearn.model_selection import train_test_split\n",
    "\n",
    "X_trn, X_val, y_trn, y_val = train_test_split(X, y, random_state=42)\n",
    "\n",
    "print(f'Number of training samples: {len(y_trn)}')\n",
    "print(f'Number of validation samples: {len(y_val)}')"
   ]
  },
  {
   "cell_type": "code",
   "execution_count": 8,
   "metadata": {},
   "outputs": [
    {
     "data": {
      "text/plain": [
       "['age', 'estrec', 'pnodes', 'progrec', 'tsize']"
      ]
     },
     "execution_count": 8,
     "metadata": {},
     "output_type": "execute_result"
    }
   ],
   "source": [
    "scaling_cols = [c for c in X.columns if X[c].dtype.kind in ['i', 'f']]\n",
    "scaling_cols"
   ]
  },
  {
   "cell_type": "code",
   "execution_count": 9,
   "metadata": {},
   "outputs": [
    {
     "data": {
      "text/plain": [
       "['horTh', 'menostat', 'tgrade']"
      ]
     },
     "execution_count": 9,
     "metadata": {},
     "output_type": "execute_result"
    }
   ],
   "source": [
    "cat_cols = [c for c in X.columns if X[c].dtype.kind not in [\"i\", \"f\"]]\n",
    "cat_cols"
   ]
  },
  {
   "cell_type": "code",
   "execution_count": 10,
   "metadata": {},
   "outputs": [],
   "source": [
    "from sklearn.compose import ColumnTransformer\n",
    "from sklearn.preprocessing import OrdinalEncoder\n",
    "from sklearn.preprocessing import StandardScaler\n",
    "\n",
    "preprocessor = ColumnTransformer(\n",
    "    [('cat-preprocessor', OrdinalEncoder(), cat_cols),\n",
    "    ('standard-scaler', StandardScaler(), scaling_cols)],\n",
    "    remainder='passthrough', sparse_threshold=0)"
   ]
  },
  {
   "cell_type": "markdown",
   "metadata": {},
   "source": [
    "## Cox proportional hazards model"
   ]
  },
  {
   "cell_type": "code",
   "execution_count": 11,
   "metadata": {},
   "outputs": [
    {
     "name": "stdout",
     "output_type": "stream",
     "text": [
      "The c-index of Cox is given by 0.635\n"
     ]
    }
   ],
   "source": [
    "from sklearn.pipeline import make_pipeline\n",
    "from sksurv.linear_model import CoxPHSurvivalAnalysis\n",
    "from sksurv.metrics import concordance_index_censored\n",
    "\n",
    "cox = make_pipeline(preprocessor, CoxPHSurvivalAnalysis())\n",
    "cox.fit(X_trn, y_trn)\n",
    "\n",
    "ci_cox = concordance_index_censored(y_val[\"cens\"], y_val[\"time\"], cox.predict(X_val))\n",
    "print(f'The c-index of Cox is given by {ci_cox[0]:.3f}')"
   ]
  },
  {
   "cell_type": "code",
   "execution_count": 12,
   "metadata": {},
   "outputs": [],
   "source": [
    "cox_scores = []\n",
    "for _seed in seeds:\n",
    "    X_trn, X_val, y_trn, y_val = train_test_split(X, y, random_state=_seed)\n",
    "  \n",
    "    cox = make_pipeline(preprocessor, CoxPHSurvivalAnalysis())\n",
    "    cox.fit(X_trn, y_trn)\n",
    "    cox_scores.append(cox.score(X_val, y_val))"
   ]
  },
  {
   "cell_type": "code",
   "execution_count": 13,
   "metadata": {},
   "outputs": [],
   "source": [
    "df_cox_scores = pd.DataFrame({'Seed': seeds, 'Cox PH' : cox_scores})\n",
    "df_cox_scores.to_csv('scores.csv', mode='w')"
   ]
  },
  {
   "cell_type": "markdown",
   "metadata": {},
   "source": [
    "## Random Survival Forest"
   ]
  },
  {
   "cell_type": "code",
   "execution_count": 14,
   "metadata": {
    "scrolled": true
   },
   "outputs": [
    {
     "name": "stdout",
     "output_type": "stream",
     "text": [
      "The c-index of Random Survival Forest is given by 0.740\n"
     ]
    }
   ],
   "source": [
    "from sklearn.pipeline import make_pipeline\n",
    "from sksurv.ensemble import RandomSurvivalForest\n",
    "\n",
    "rsf = make_pipeline(preprocessor, RandomSurvivalForest(random_state=42))\n",
    "\n",
    "rsf.fit(X_trn, y_trn)\n",
    "\n",
    "ci_rsf = concordance_index_censored(y_val[\"cens\"], y_val[\"time\"], rsf.predict(X_val))\n",
    "print(f'The c-index of Random Survival Forest is given by {ci_rsf[0]:.3f}')"
   ]
  },
  {
   "cell_type": "code",
   "execution_count": 15,
   "metadata": {},
   "outputs": [],
   "source": [
    "rsf_scores = []\n",
    "for _seed in seeds:\n",
    "    X_trn, X_val, y_trn, y_val = train_test_split(X, y, random_state=_seed)\n",
    "  \n",
    "    rsf = make_pipeline(preprocessor, RandomSurvivalForest(random_state=42))\n",
    "    rsf.fit(X_trn, y_trn)\n",
    "    rsf_scores.append(rsf.score(X_val, y_val))"
   ]
  },
  {
   "cell_type": "code",
   "execution_count": 16,
   "metadata": {},
   "outputs": [],
   "source": [
    "df_csv = pd.read_csv('scores.csv')\n",
    "df_csv['RSF'] = pd.Series(rsf_scores)\n",
    "df_csv.to_csv('scores.csv', mode='w')"
   ]
  },
  {
   "cell_type": "markdown",
   "metadata": {},
   "source": [
    "## Gradient Boosting"
   ]
  },
  {
   "cell_type": "code",
   "execution_count": 17,
   "metadata": {
    "scrolled": true
   },
   "outputs": [
    {
     "name": "stdout",
     "output_type": "stream",
     "text": [
      "The c-index of Gradient Boosting Cox PH is given by 0.724\n"
     ]
    }
   ],
   "source": [
    "from sklearn.pipeline import make_pipeline\n",
    "from sksurv.ensemble import GradientBoostingSurvivalAnalysis\n",
    "\n",
    "gbc = make_pipeline(preprocessor, GradientBoostingSurvivalAnalysis(random_state=42))\n",
    "\n",
    "gbc.fit(X_trn, y_trn)\n",
    "\n",
    "ci_gbc = concordance_index_censored(y_val[\"cens\"], y_val[\"time\"], gbc.predict(X_val))\n",
    "print(f'The c-index of Gradient Boosting Cox PH is given by {ci_gbc[0]:.3f}')"
   ]
  },
  {
   "cell_type": "code",
   "execution_count": 18,
   "metadata": {},
   "outputs": [],
   "source": [
    "gbc_scores = []\n",
    "for _seed in seeds:\n",
    "    X_trn, X_val, y_trn, y_val = train_test_split(X, y, random_state=_seed)\n",
    "  \n",
    "    gbc = make_pipeline(preprocessor, GradientBoostingSurvivalAnalysis(random_state=42))\n",
    "    gbc.fit(X_trn, y_trn)\n",
    "    gbc_scores.append(gbc.score(X_val, y_val))"
   ]
  },
  {
   "cell_type": "code",
   "execution_count": 19,
   "metadata": {},
   "outputs": [],
   "source": [
    "df_csv = pd.read_csv('scores.csv')\n",
    "df_csv['GBC'] = pd.Series(gbc_scores)\n",
    "df_csv.to_csv('scores.csv', mode='w')"
   ]
  },
  {
   "cell_type": "markdown",
   "metadata": {},
   "source": [
    "## Weibull AFT"
   ]
  },
  {
   "cell_type": "code",
   "execution_count": 20,
   "metadata": {
    "scrolled": false
   },
   "outputs": [
    {
     "data": {
      "text/plain": [
       "Index(['age', 'estrec', 'horTh', 'menostat', 'pnodes', 'progrec', 'tgrade',\n",
       "       'tsize'],\n",
       "      dtype='object')"
      ]
     },
     "execution_count": 20,
     "metadata": {},
     "output_type": "execute_result"
    }
   ],
   "source": [
    "columns_encoded = X_trn.columns\n",
    "columns_encoded"
   ]
  },
  {
   "cell_type": "code",
   "execution_count": 21,
   "metadata": {},
   "outputs": [],
   "source": [
    "X_trn1 = preprocessor.fit_transform(X_trn)\n",
    "X_val1 = preprocessor.transform(X_val)"
   ]
  },
  {
   "cell_type": "code",
   "execution_count": 22,
   "metadata": {},
   "outputs": [],
   "source": [
    "X_trn1 = pd.DataFrame(X_trn1, columns=columns_encoded)\n",
    "X_val1 = pd.DataFrame(X_val1, columns=columns_encoded)"
   ]
  },
  {
   "cell_type": "code",
   "execution_count": 23,
   "metadata": {},
   "outputs": [],
   "source": [
    "X_trn1['cens'] = y_trn['cens']\n",
    "X_val1['cens'] = y_val['cens']"
   ]
  },
  {
   "cell_type": "code",
   "execution_count": 24,
   "metadata": {},
   "outputs": [
    {
     "name": "stdout",
     "output_type": "stream",
     "text": [
      "The c-index of Weibull AFT is given by 0.717\n"
     ]
    }
   ],
   "source": [
    "from lifelines.utils.sklearn_adapter import sklearn_adapter\n",
    "from lifelines import WeibullAFTFitter\n",
    "\n",
    "WeibullAFTRegression = sklearn_adapter(WeibullAFTFitter, event_col='cens')\n",
    "sk_aft = WeibullAFTRegression()\n",
    "sk_aft.fit(X_trn1, y_trn['time'])\n",
    "ci_aft = sk_aft.score(X_val1, y_val['time'])\n",
    "print(f'The c-index of Weibull AFT is given by {ci_aft:.3f}')"
   ]
  },
  {
   "cell_type": "code",
   "execution_count": 25,
   "metadata": {},
   "outputs": [],
   "source": [
    "aft_scores = []\n",
    "for _seed in seeds:\n",
    "    X_trn, X_val, y_trn, y_val = train_test_split(X, y, random_state=_seed)\n",
    "    \n",
    "    X_trn1 = preprocessor.fit_transform(X_trn)\n",
    "    X_val1 = preprocessor.transform(X_val)\n",
    "    X_trn1 = pd.DataFrame(X_trn1, columns=columns_encoded)\n",
    "    X_val1 = pd.DataFrame(X_val1, columns=columns_encoded)\n",
    "    X_trn1['cens'] = y_trn['cens']\n",
    "    X_val1['cens'] = y_val['cens']\n",
    "  \n",
    "    WeibullAFTRegression = sklearn_adapter(WeibullAFTFitter, event_col='cens')\n",
    "    sk_aft = WeibullAFTRegression()\n",
    "    sk_aft.fit(X_trn1, y_trn['time'])\n",
    "    \n",
    "    aft_scores.append(sk_aft.score(X_val1, y_val['time']))"
   ]
  },
  {
   "cell_type": "code",
   "execution_count": 26,
   "metadata": {},
   "outputs": [],
   "source": [
    "df_csv = pd.read_csv('scores.csv')\n",
    "df_csv['AFT'] = pd.Series(aft_scores)\n",
    "df_csv.to_csv('scores.csv', mode='w')"
   ]
  },
  {
   "cell_type": "markdown",
   "metadata": {},
   "source": [
    "## Aalen's additive model"
   ]
  },
  {
   "cell_type": "code",
   "execution_count": 27,
   "metadata": {},
   "outputs": [
    {
     "name": "stdout",
     "output_type": "stream",
     "text": [
      "The c-index of Aalen's additive model is given by 0.730\n"
     ]
    }
   ],
   "source": [
    "from lifelines import AalenAdditiveFitter\n",
    "\n",
    "AalenAdditiveRegression = sklearn_adapter(AalenAdditiveFitter, event_col='cens')\n",
    "sk_aa = AalenAdditiveRegression()\n",
    "sk_aa.fit(X_trn1, y_trn['time'])\n",
    "ci_aa = sk_aa.score(X_val1, y_val['time'])\n",
    "print(f\"The c-index of Aalen's additive model is given by {ci_aa:.3f}\")"
   ]
  },
  {
   "cell_type": "code",
   "execution_count": 28,
   "metadata": {},
   "outputs": [],
   "source": [
    "aa_scores = []\n",
    "for _seed in seeds:\n",
    "    X_trn, X_val, y_trn, y_val = train_test_split(X, y, random_state=_seed)\n",
    "    \n",
    "    X_trn1 = preprocessor.fit_transform(X_trn)\n",
    "    X_val1 = preprocessor.transform(X_val)\n",
    "    X_trn1 = pd.DataFrame(X_trn1, columns=columns_encoded)\n",
    "    X_val1 = pd.DataFrame(X_val1, columns=columns_encoded)\n",
    "    X_trn1['cens'] = y_trn['cens']\n",
    "    X_val1['cens'] = y_val['cens']\n",
    "  \n",
    "    AalenAdditiveRegression = sklearn_adapter(AalenAdditiveFitter, event_col='cens')\n",
    "    sk_aa = AalenAdditiveRegression()\n",
    "    sk_aa.fit(X_trn1, y_trn['time'])\n",
    "    \n",
    "    aa_scores.append(sk_aa.score(X_val1, y_val['time']))"
   ]
  },
  {
   "cell_type": "code",
   "execution_count": 29,
   "metadata": {},
   "outputs": [],
   "source": [
    "df_csv = pd.read_csv('scores.csv')\n",
    "df_csv['Aalen'] = pd.Series(aa_scores)\n",
    "df_csv.to_csv('scores.csv', mode='w')"
   ]
  },
  {
   "cell_type": "markdown",
   "metadata": {},
   "source": [
    "## Cox Randomized Search"
   ]
  },
  {
   "cell_type": "code",
   "execution_count": 30,
   "metadata": {},
   "outputs": [
    {
     "name": "stdout",
     "output_type": "stream",
     "text": [
      "The c-index of Cox using a RandomizedSearchCV is 0.715\n",
      "The best set of parameters is: {'coxphsurvivalanalysis__alpha': 78.86714129990492}\n"
     ]
    }
   ],
   "source": [
    "# print(\"The hyper-parameters for the full-pipeline are:\")\n",
    "# for param_name in rsf.get_params().keys():\n",
    "#     print(param_name)\n",
    "    \n",
    "from scipy.stats import reciprocal\n",
    "from sklearn.model_selection import RandomizedSearchCV\n",
    "\n",
    "param_distributions = {\n",
    "    'coxphsurvivalanalysis__alpha': reciprocal(0.1, 100),\n",
    "}\n",
    "\n",
    "model_random_search = RandomizedSearchCV(cox, param_distributions=param_distributions, n_iter=50, n_jobs=-1, cv=5, random_state=42)\n",
    "model_random_search.fit(X_trn, y_trn)\n",
    "\n",
    "print(\n",
    "    f\"The c-index of Cox using a {model_random_search.__class__.__name__} is \"\n",
    "    f\"{model_random_search.score(X_val, y_val):.3f}\")\n",
    "print(\n",
    "    f\"The best set of parameters is: {model_random_search.best_params_}\"\n",
    ")"
   ]
  },
  {
   "cell_type": "code",
   "execution_count": 31,
   "metadata": {},
   "outputs": [
    {
     "data": {
      "text/plain": [
       "{'coxphsurvivalanalysis__alpha': 78.86714129990492}"
      ]
     },
     "execution_count": 31,
     "metadata": {},
     "output_type": "execute_result"
    }
   ],
   "source": [
    "model_random_search.best_params_"
   ]
  },
  {
   "cell_type": "code",
   "execution_count": 32,
   "metadata": {},
   "outputs": [],
   "source": [
    "cox_rs_scores = []\n",
    "for _seed in seeds:\n",
    "    X_trn, X_val, y_trn, y_val = train_test_split(X, y, random_state=_seed)\n",
    "  \n",
    "    cox_rs = make_pipeline(preprocessor, CoxPHSurvivalAnalysis(alpha=78.86714129990492))\n",
    "    cox_rs.fit(X_trn, y_trn)\n",
    "    cox_rs_scores.append(cox_rs.score(X_val, y_val))"
   ]
  },
  {
   "cell_type": "code",
   "execution_count": 33,
   "metadata": {},
   "outputs": [],
   "source": [
    "df_csv = pd.read_csv('scores.csv')\n",
    "df_csv['RS Cox'] = pd.Series(cox_rs_scores)\n",
    "df_csv.to_csv('scores.csv', mode='w')"
   ]
  },
  {
   "cell_type": "markdown",
   "metadata": {},
   "source": [
    "## RSF Randomized Search"
   ]
  },
  {
   "cell_type": "code",
   "execution_count": 34,
   "metadata": {},
   "outputs": [
    {
     "name": "stdout",
     "output_type": "stream",
     "text": [
      "The c-index of random survival forest using a RandomizedSearchCV is 0.727\n",
      "The best set of parameters is: {'randomsurvivalforest__max_depth': 10, 'randomsurvivalforest__max_features': 4, 'randomsurvivalforest__min_samples_leaf': 13}\n"
     ]
    }
   ],
   "source": [
    "from scipy.stats import reciprocal\n",
    "from sklearn.model_selection import RandomizedSearchCV\n",
    "\n",
    "class reciprocal_int:\n",
    "    def __init__(self, a, b):\n",
    "        self._distribution = reciprocal(a, b)\n",
    "\n",
    "    def rvs(self, *args, **kwargs):\n",
    "        return self._distribution.rvs(*args, **kwargs).astype(int)\n",
    "\n",
    "param_distributions1 = {\n",
    "    'randomsurvivalforest__max_features': reciprocal_int(3, 8),\n",
    "    'randomsurvivalforest__max_depth': reciprocal_int(5, 50),\n",
    "    'randomsurvivalforest__min_samples_leaf': reciprocal_int(1, 40),\n",
    "}\n",
    "\n",
    "model_random_search = RandomizedSearchCV(\n",
    "    rsf, param_distributions=param_distributions1, n_iter=50, n_jobs=-1, cv=5, random_state=42)\n",
    "model_random_search.fit(X_trn, y_trn)\n",
    "\n",
    "print(\n",
    "    f\"The c-index of random survival forest using a {model_random_search.__class__.__name__} is \"\n",
    "    f\"{model_random_search.score(X_val, y_val):.3f}\")\n",
    "print(\n",
    "    f\"The best set of parameters is: {model_random_search.best_params_}\"\n",
    ")"
   ]
  },
  {
   "cell_type": "code",
   "execution_count": 35,
   "metadata": {},
   "outputs": [],
   "source": [
    "rsf_rs_scores = []\n",
    "for _seed in seeds:\n",
    "    X_trn, X_val, y_trn, y_val = train_test_split(X, y, random_state=_seed)\n",
    "  \n",
    "    rsf_rs = make_pipeline(preprocessor, RandomSurvivalForest(max_depth=10, max_features=4, min_samples_leaf=13, random_state=42))\n",
    "    rsf_rs.fit(X_trn, y_trn)\n",
    "    rsf_rs_scores.append(rsf_rs.score(X_val, y_val))"
   ]
  },
  {
   "cell_type": "code",
   "execution_count": 36,
   "metadata": {},
   "outputs": [],
   "source": [
    "df_csv = pd.read_csv('scores.csv')\n",
    "df_csv['RS RSF'] = pd.Series(rsf_rs_scores)\n",
    "df_csv.to_csv('scores.csv', mode='w')"
   ]
  },
  {
   "cell_type": "markdown",
   "metadata": {},
   "source": [
    "## Gradient Boostin Randomized Search"
   ]
  },
  {
   "cell_type": "code",
   "execution_count": 37,
   "metadata": {
    "scrolled": true
   },
   "outputs": [
    {
     "name": "stderr",
     "output_type": "stream",
     "text": [
      "c:\\users\\cami_\\miniconda3\\lib\\site-packages\\sklearn\\model_selection\\_search.py:814: DeprecationWarning: The default of the `iid` parameter will change from True to False in version 0.22 and will be removed in 0.24. This will change numeric results when test-set sizes are unequal.\n",
      "  DeprecationWarning)\n"
     ]
    },
    {
     "name": "stdout",
     "output_type": "stream",
     "text": [
      "The c-index of gradient boosting Cox PH using a RandomizedSearchCV is 0.718\n",
      "The best set of parameters is: {'gradientboostingsurvivalanalysis__learning_rate': 0.04366473592979633, 'gradientboostingsurvivalanalysis__max_depth': 7, 'gradientboostingsurvivalanalysis__min_samples_leaf': 35}\n"
     ]
    }
   ],
   "source": [
    "from scipy.stats import reciprocal\n",
    "from sklearn.model_selection import RandomizedSearchCV\n",
    "\n",
    "class reciprocal_int:\n",
    "    def __init__(self, a, b):\n",
    "        self._distribution = reciprocal(a, b)\n",
    "\n",
    "    def rvs(self, *args, **kwargs):\n",
    "        return self._distribution.rvs(*args, **kwargs).astype(int)\n",
    "\n",
    "param_distributions1 = {\n",
    "    'gradientboostingsurvivalanalysis__learning_rate': reciprocal(0.001, 1),\n",
    "    'gradientboostingsurvivalanalysis__max_depth': reciprocal_int(5, 50),\n",
    "    'gradientboostingsurvivalanalysis__min_samples_leaf': reciprocal_int(1, 40),\n",
    "}\n",
    "\n",
    "model_random_search = RandomizedSearchCV(gbc, param_distributions=param_distributions1, n_iter=50, n_jobs=-1, cv=5, random_state=42)\n",
    "model_random_search.fit(X_trn, y_trn)\n",
    "\n",
    "print(\n",
    "    f\"The c-index of gradient boosting Cox PH using a {model_random_search.__class__.__name__} is \"\n",
    "    f\"{model_random_search.score(X_val, y_val):.3f}\")\n",
    "print(\n",
    "    f\"The best set of parameters is: {model_random_search.best_params_}\"\n",
    ")"
   ]
  },
  {
   "cell_type": "code",
   "execution_count": 38,
   "metadata": {},
   "outputs": [],
   "source": [
    "gbc_rs_scores = []\n",
    "for _seed in seeds:\n",
    "    X_trn, X_val, y_trn, y_val = train_test_split(X, y, random_state=_seed)\n",
    "  \n",
    "    gbc_rs = make_pipeline(preprocessor, GradientBoostingSurvivalAnalysis(learning_rate=0.04366473592979633, \\\n",
    "                                                                         max_depth=7, min_samples_leaf=35, \\\n",
    "                                                                         random_state=42))\n",
    "    gbc_rs.fit(X_trn, y_trn)\n",
    "    gbc_rs_scores.append(gbc_rs.score(X_val, y_val))"
   ]
  },
  {
   "cell_type": "code",
   "execution_count": 39,
   "metadata": {},
   "outputs": [],
   "source": [
    "df_csv = pd.read_csv('scores.csv')\n",
    "df_csv['RS GBC'] = pd.Series(gbc_rs_scores)\n",
    "df_csv.to_csv('scores.csv', mode='w')"
   ]
  },
  {
   "cell_type": "markdown",
   "metadata": {},
   "source": [
    "## DeepSurv"
   ]
  },
  {
   "cell_type": "code",
   "execution_count": 40,
   "metadata": {},
   "outputs": [
    {
     "name": "stderr",
     "output_type": "stream",
     "text": [
      "% Completion: 100%|**********************************************|Loss: 1024.74\r"
     ]
    },
    {
     "name": "stdout",
     "output_type": "stream",
     "text": [
      "The c-index of DeepSurv is given by 0.868\n"
     ]
    },
    {
     "name": "stderr",
     "output_type": "stream",
     "text": [
      "\n"
     ]
    }
   ],
   "source": [
    "from pysurvival.models.semi_parametric import NonLinearCoxPHModel\n",
    "\n",
    "structure = [ {'activation': 'ReLU', 'num_units': 60}, {'activation': 'ReLU', 'num_units': 10}, ]\n",
    "\n",
    "# Building the model\n",
    "nonlinear_coxph = NonLinearCoxPHModel(structure=structure)\n",
    "nonlinear_coxph.fit(X_trn1, y_trn[\"time\"], y_trn[\"cens\"])\n",
    "\n",
    "ci_deepsurv = concordance_index_censored(y_val[\"cens\"], y_val[\"time\"], nonlinear_coxph.predict_risk(X_val1))\n",
    "\n",
    "print(f'The c-index of DeepSurv is given by {ci_deepsurv[0]:.3f}')\n"
   ]
  },
  {
   "cell_type": "code",
   "execution_count": 41,
   "metadata": {
    "scrolled": false
   },
   "outputs": [
    {
     "name": "stderr",
     "output_type": "stream",
     "text": [
      "% Completion: 100%|**********************************************|Loss: 1282.65\n",
      "% Completion: 100%|**********************************************|Loss: 1235.94\n",
      "% Completion: 100%|**********************************************|Loss: 1214.34\n",
      "% Completion: 100%|**********************************************|Loss: 1212.24\n",
      "% Completion: 100%|**********************************************|Loss: 1279.25\n",
      "% Completion: 100%|**********************************************|Loss: 1223.12\n",
      "% Completion: 100%|**********************************************|Loss: 1232.38\n",
      "% Completion: 100%|**********************************************|Loss: 1282.36\n",
      "% Completion: 100%|**********************************************|Loss: 1286.63\n",
      "% Completion: 100%|**********************************************|Loss: 1206.62\n",
      "% Completion: 100%|**********************************************|Loss: 1208.50\n",
      "% Completion: 100%|**********************************************|Loss: 1256.95\n",
      "% Completion: 100%|**********************************************|Loss: 1259.39\n",
      "% Completion: 100%|**********************************************|Loss: 1247.86\n",
      "% Completion: 100%|**********************************************|Loss: 1271.44\n",
      "% Completion: 100%|**********************************************|Loss: 1215.00\n",
      "% Completion: 100%|**********************************************|Loss: 1172.34\n",
      "% Completion: 100%|**********************************************|Loss: 1184.84\n",
      "% Completion: 100%|**********************************************|Loss: 1207.91\n",
      "% Completion: 100%|**********************************************|Loss: 1197.58\n",
      "% Completion: 100%|**********************************************|Loss: 1205.53\n",
      "% Completion: 100%|**********************************************|Loss: 1234.28\n",
      "% Completion: 100%|**********************************************|Loss: 1274.11\n",
      "% Completion: 100%|**********************************************|Loss: 1233.96\n",
      "% Completion: 100%|**********************************************|Loss: 1232.46\n"
     ]
    }
   ],
   "source": [
    "nlc_scores = []\n",
    "\n",
    "for _seed in seeds:\n",
    "    \n",
    "    X_trn, X_val, y_trn, y_val = train_test_split(X, y, random_state=_seed)\n",
    "    X_trn1 = preprocessor.fit_transform(X_trn)\n",
    "    X_val1 = preprocessor.transform(X_val)\n",
    "    \n",
    "    nonlinear_coxph = NonLinearCoxPHModel(structure=structure)\n",
    "    nonlinear_coxph.fit(X_trn1, y_trn[\"time\"], y_trn[\"cens\"])\n",
    "    nlc_scores.append(concordance_index_censored(y_val['cens'], y_val[\"time\"], nonlinear_coxph.predict_risk(X_val1)))"
   ]
  },
  {
   "cell_type": "code",
   "execution_count": 42,
   "metadata": {},
   "outputs": [],
   "source": [
    "nlc_scores = [nlc_scores[i][0] for i in range(np.shape(nlc_scores)[0])]\n",
    "df_csv = pd.read_csv('scores.csv')\n",
    "df_csv['DeepSurv'] = pd.Series(nlc_scores)\n",
    "df_csv.to_csv('scores.csv', mode='w')"
   ]
  },
  {
   "cell_type": "markdown",
   "metadata": {},
   "source": [
    "## **RSF Adaptive NN**"
   ]
  },
  {
   "cell_type": "code",
   "execution_count": 43,
   "metadata": {},
   "outputs": [],
   "source": [
    "df_rsfann = pd.read_csv(r'rsfann_experiments10_cv(5,1)_cum_haz_table.csv')\n",
    "rsfann_scores = df_rsfann['cindex']\n",
    "df_csv = pd.read_csv('scores.csv')\n",
    "df_csv['RSFANN'] = pd.Series(rsfann_scores)\n",
    "df_csv.to_csv('scores.csv', mode='w')"
   ]
  },
  {
   "cell_type": "markdown",
   "metadata": {},
   "source": [
    "## **Concordance Index Comparison**"
   ]
  },
  {
   "cell_type": "code",
   "execution_count": 44,
   "metadata": {},
   "outputs": [
    {
     "name": "stdout",
     "output_type": "stream",
     "text": [
      "Random Search RSF model: Mean c-index: 0.693, standard deviation: 0.027\n",
      "Cox proportional hazards model: Mean c-index: 0.673, standard deviation: 0.033\n",
      "Random Search Cox PH model: Mean c-index:0.678, standard deviation: 0.030\n",
      "Random Survival Forest model: Mean c-index: 0.694, standard deviation: 0.028\n",
      "Gradient boosting Cox PH model: Mean c-index: 0.693, standard deviation: 0.027\n",
      "Random Search Gradient Boosting model: Mean c-index:0.683, standard deviation: 0.028\n",
      "Non linear Cox PH model: Mean c-index:  0.681, standard deviation: 0.031\n",
      "RSF Adaptative NN model: Mean c-index: 0.695, standard deviation: 0.013\n",
      "Weibull AFT model: Mean c-index:0.674, standard deviation: 0.033\n",
      "Aalen additive model: Mean c-index:0.677, standard deviation: 0.030\n"
     ]
    }
   ],
   "source": [
    "print(f'Random Search RSF model: Mean c-index: {np.mean(rsf_rs_scores):.3f}, standard deviation: {np.std(rsf_rs_scores):.3f}')\n",
    "print(f'Cox proportional hazards model: Mean c-index: {np.mean(cox_scores):.3f}, standard deviation: {np.std(cox_scores):.3f}')\n",
    "print(f'Random Search Cox PH model: Mean c-index:{np.mean(cox_rs_scores):.3f}, standard deviation: {np.std(cox_rs_scores):.3f}')\n",
    "print(f'Random Survival Forest model: Mean c-index: {np.mean(rsf_scores):.3f}, standard deviation: {np.std(rsf_scores):.3f}')\n",
    "print(f'Gradient boosting Cox PH model: Mean c-index: {np.mean(gbc_scores):.3f}, standard deviation: {np.std(gbc_scores):.3f}')\n",
    "print(f'Random Search Gradient Boosting model: Mean c-index:{np.mean(gbc_rs_scores):.3f}, standard deviation: {np.std(gbc_rs_scores):.3f}')\n",
    "print(f'Non linear Cox PH model: Mean c-index: {np.mean(nlc_scores): .3f}, standard deviation: {np.std(nlc_scores):.3f}')\n",
    "print(f'RSF Adaptative NN model: Mean c-index: {np.mean(rsfann_scores):.3f}, standard deviation: {np.std(rsfann_scores):.3f}')\n",
    "print(f'Weibull AFT model: Mean c-index:{np.mean(aft_scores):.3f}, standard deviation: {np.std(aft_scores):.3f}')\n",
    "print(f'Aalen additive model: Mean c-index:{np.mean(aa_scores):.3f}, standard deviation: {np.std(aa_scores):.3f}')"
   ]
  },
  {
   "cell_type": "code",
   "execution_count": 55,
   "metadata": {},
   "outputs": [
    {
     "data": {
      "text/plain": [
       "Text(0.5, 1, 'Concordance Index Comparison')"
      ]
     },
     "execution_count": 55,
     "metadata": {},
     "output_type": "execute_result"
    },
    {
     "data": {
      "image/png": "[encoded data removed]",
      "text/plain": [
       "<Figure size 720x504 with 1 Axes>"
      ]
     },
     "metadata": {},
     "output_type": "display_data"
    }
   ],
   "source": [
    "fig, ax = plt.subplots(figsize=(10,7))\n",
    "df_csv.boxplot(ax=ax, column = ['Cox PH', 'AFT', 'Aalen', 'RS Cox', 'DeepSurv', 'RS GBC', 'GBC', 'RS RSF', 'RSF', 'RSFANN'], vert = False, showmeans = True)\n",
    "plt.savefig('Scores.png', format='png', dpi=100)\n",
    "plt.title('Concordance Index Comparison')"
   ]
  },
  {
   "cell_type": "code",
   "execution_count": 56,
   "metadata": {},
   "outputs": [
    {
     "data": {
      "text/plain": [
       "<Figure size 576x396 with 0 Axes>"
      ]
     },
     "metadata": {},
     "output_type": "display_data"
    }
   ],
   "source": [
    "plt.savefig('Scores.png', format='png', dpi=100)"
   ]
  },
  {
   "cell_type": "code",
   "execution_count": null,
   "metadata": {},
   "outputs": [],
   "source": []
  }
 ],
 "metadata": {
  "kernelspec": {
   "display_name": "Python 3",
   "language": "python",
   "name": "python3"
  },
  "language_info": {
   "codemirror_mode": {
    "name": "ipython",
    "version": 3
   },
   "file_extension": ".py",
   "mimetype": "text/x-python",
   "name": "python",
   "nbconvert_exporter": "python",
   "pygments_lexer": "ipython3",
   "version": "3.7.3"
  }
 },
 "nbformat": 4,
 "nbformat_minor": 2
}
