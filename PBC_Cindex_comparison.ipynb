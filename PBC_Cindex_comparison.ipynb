{
 "cells": [
  {
   "cell_type": "code",
   "execution_count": 1,
   "metadata": {},
   "outputs": [],
   "source": [
    "#Import\n",
    "import statsmodels.api as sm\n",
    "import numpy as np\n",
    "import pandas as pd\n",
    "import matplotlib.pyplot as plt\n",
    "plt.style.use('seaborn')\n",
    "from lifelines.utils import concordance_index"
   ]
  },
  {
   "cell_type": "code",
   "execution_count": 2,
   "metadata": {},
   "outputs": [],
   "source": [
    "# choose random seeds\n",
    "np.random.seed(0)\n",
    "seeds = np.random.permutation(1000)[:25]"
   ]
  },
  {
   "cell_type": "code",
   "execution_count": 3,
   "metadata": {},
   "outputs": [],
   "source": [
    "#Import Dataset\n",
    "df_raw = sm.datasets.get_rdataset('pbc', 'survival').data\n",
    "df_no_nans = df_raw.dropna()   #no nan values\n",
    "df_no_nans = df_no_nans.drop('id', axis=1)  #first innecesary column\n",
    "df_trans = df_no_nans['status']   #to use this variable dont run next square"
   ]
  },
  {
   "cell_type": "code",
   "execution_count": 4,
   "metadata": {},
   "outputs": [
    {
     "data": {
      "text/html": [
       "<div>\n",
       "<style scoped>\n",
       "    .dataframe tbody tr th:only-of-type {\n",
       "        vertical-align: middle;\n",
       "    }\n",
       "\n",
       "    .dataframe tbody tr th {\n",
       "        vertical-align: top;\n",
       "    }\n",
       "\n",
       "    .dataframe thead th {\n",
       "        text-align: right;\n",
       "    }\n",
       "</style>\n",
       "<table border=\"1\" class=\"dataframe\">\n",
       "  <thead>\n",
       "    <tr style=\"text-align: right;\">\n",
       "      <th></th>\n",
       "      <th>time</th>\n",
       "      <th>status</th>\n",
       "      <th>trt</th>\n",
       "      <th>age</th>\n",
       "      <th>sex</th>\n",
       "      <th>ascites</th>\n",
       "      <th>hepato</th>\n",
       "      <th>spiders</th>\n",
       "      <th>edema</th>\n",
       "      <th>bili</th>\n",
       "      <th>chol</th>\n",
       "      <th>albumin</th>\n",
       "      <th>copper</th>\n",
       "      <th>alk.phos</th>\n",
       "      <th>ast</th>\n",
       "      <th>trig</th>\n",
       "      <th>platelet</th>\n",
       "      <th>protime</th>\n",
       "      <th>stage</th>\n",
       "    </tr>\n",
       "  </thead>\n",
       "  <tbody>\n",
       "    <tr>\n",
       "      <th>0</th>\n",
       "      <td>400</td>\n",
       "      <td>1</td>\n",
       "      <td>1.0</td>\n",
       "      <td>58.765229</td>\n",
       "      <td>f</td>\n",
       "      <td>1.0</td>\n",
       "      <td>1.0</td>\n",
       "      <td>1.0</td>\n",
       "      <td>1.0</td>\n",
       "      <td>14.5</td>\n",
       "      <td>261.0</td>\n",
       "      <td>2.60</td>\n",
       "      <td>156.0</td>\n",
       "      <td>1718.0</td>\n",
       "      <td>137.95</td>\n",
       "      <td>172.0</td>\n",
       "      <td>190.0</td>\n",
       "      <td>12.2</td>\n",
       "      <td>4.0</td>\n",
       "    </tr>\n",
       "    <tr>\n",
       "      <th>1</th>\n",
       "      <td>4500</td>\n",
       "      <td>0</td>\n",
       "      <td>1.0</td>\n",
       "      <td>56.446270</td>\n",
       "      <td>f</td>\n",
       "      <td>0.0</td>\n",
       "      <td>1.0</td>\n",
       "      <td>1.0</td>\n",
       "      <td>0.0</td>\n",
       "      <td>1.1</td>\n",
       "      <td>302.0</td>\n",
       "      <td>4.14</td>\n",
       "      <td>54.0</td>\n",
       "      <td>7394.8</td>\n",
       "      <td>113.52</td>\n",
       "      <td>88.0</td>\n",
       "      <td>221.0</td>\n",
       "      <td>10.6</td>\n",
       "      <td>3.0</td>\n",
       "    </tr>\n",
       "    <tr>\n",
       "      <th>2</th>\n",
       "      <td>1012</td>\n",
       "      <td>1</td>\n",
       "      <td>1.0</td>\n",
       "      <td>70.072553</td>\n",
       "      <td>m</td>\n",
       "      <td>0.0</td>\n",
       "      <td>0.0</td>\n",
       "      <td>0.0</td>\n",
       "      <td>0.5</td>\n",
       "      <td>1.4</td>\n",
       "      <td>176.0</td>\n",
       "      <td>3.48</td>\n",
       "      <td>210.0</td>\n",
       "      <td>516.0</td>\n",
       "      <td>96.10</td>\n",
       "      <td>55.0</td>\n",
       "      <td>151.0</td>\n",
       "      <td>12.0</td>\n",
       "      <td>4.0</td>\n",
       "    </tr>\n",
       "    <tr>\n",
       "      <th>3</th>\n",
       "      <td>1925</td>\n",
       "      <td>1</td>\n",
       "      <td>1.0</td>\n",
       "      <td>54.740589</td>\n",
       "      <td>f</td>\n",
       "      <td>0.0</td>\n",
       "      <td>1.0</td>\n",
       "      <td>1.0</td>\n",
       "      <td>0.5</td>\n",
       "      <td>1.8</td>\n",
       "      <td>244.0</td>\n",
       "      <td>2.54</td>\n",
       "      <td>64.0</td>\n",
       "      <td>6121.8</td>\n",
       "      <td>60.63</td>\n",
       "      <td>92.0</td>\n",
       "      <td>183.0</td>\n",
       "      <td>10.3</td>\n",
       "      <td>4.0</td>\n",
       "    </tr>\n",
       "    <tr>\n",
       "      <th>4</th>\n",
       "      <td>1504</td>\n",
       "      <td>0</td>\n",
       "      <td>2.0</td>\n",
       "      <td>38.105407</td>\n",
       "      <td>f</td>\n",
       "      <td>0.0</td>\n",
       "      <td>1.0</td>\n",
       "      <td>1.0</td>\n",
       "      <td>0.0</td>\n",
       "      <td>3.4</td>\n",
       "      <td>279.0</td>\n",
       "      <td>3.53</td>\n",
       "      <td>143.0</td>\n",
       "      <td>671.0</td>\n",
       "      <td>113.15</td>\n",
       "      <td>72.0</td>\n",
       "      <td>136.0</td>\n",
       "      <td>10.9</td>\n",
       "      <td>3.0</td>\n",
       "    </tr>\n",
       "    <tr>\n",
       "      <th>6</th>\n",
       "      <td>1832</td>\n",
       "      <td>0</td>\n",
       "      <td>2.0</td>\n",
       "      <td>55.534565</td>\n",
       "      <td>f</td>\n",
       "      <td>0.0</td>\n",
       "      <td>1.0</td>\n",
       "      <td>0.0</td>\n",
       "      <td>0.0</td>\n",
       "      <td>1.0</td>\n",
       "      <td>322.0</td>\n",
       "      <td>4.09</td>\n",
       "      <td>52.0</td>\n",
       "      <td>824.0</td>\n",
       "      <td>60.45</td>\n",
       "      <td>213.0</td>\n",
       "      <td>204.0</td>\n",
       "      <td>9.7</td>\n",
       "      <td>3.0</td>\n",
       "    </tr>\n",
       "    <tr>\n",
       "      <th>7</th>\n",
       "      <td>2466</td>\n",
       "      <td>1</td>\n",
       "      <td>2.0</td>\n",
       "      <td>53.056810</td>\n",
       "      <td>f</td>\n",
       "      <td>0.0</td>\n",
       "      <td>0.0</td>\n",
       "      <td>0.0</td>\n",
       "      <td>0.0</td>\n",
       "      <td>0.3</td>\n",
       "      <td>280.0</td>\n",
       "      <td>4.00</td>\n",
       "      <td>52.0</td>\n",
       "      <td>4651.2</td>\n",
       "      <td>28.38</td>\n",
       "      <td>189.0</td>\n",
       "      <td>373.0</td>\n",
       "      <td>11.0</td>\n",
       "      <td>3.0</td>\n",
       "    </tr>\n",
       "    <tr>\n",
       "      <th>8</th>\n",
       "      <td>2400</td>\n",
       "      <td>1</td>\n",
       "      <td>1.0</td>\n",
       "      <td>42.507871</td>\n",
       "      <td>f</td>\n",
       "      <td>0.0</td>\n",
       "      <td>0.0</td>\n",
       "      <td>1.0</td>\n",
       "      <td>0.0</td>\n",
       "      <td>3.2</td>\n",
       "      <td>562.0</td>\n",
       "      <td>3.08</td>\n",
       "      <td>79.0</td>\n",
       "      <td>2276.0</td>\n",
       "      <td>144.15</td>\n",
       "      <td>88.0</td>\n",
       "      <td>251.0</td>\n",
       "      <td>11.0</td>\n",
       "      <td>2.0</td>\n",
       "    </tr>\n",
       "  </tbody>\n",
       "</table>\n",
       "</div>"
      ],
      "text/plain": [
       "   time  status  trt        age sex  ascites  hepato  spiders  edema  bili  \\\n",
       "0   400       1  1.0  58.765229   f      1.0     1.0      1.0    1.0  14.5   \n",
       "1  4500       0  1.0  56.446270   f      0.0     1.0      1.0    0.0   1.1   \n",
       "2  1012       1  1.0  70.072553   m      0.0     0.0      0.0    0.5   1.4   \n",
       "3  1925       1  1.0  54.740589   f      0.0     1.0      1.0    0.5   1.8   \n",
       "4  1504       0  2.0  38.105407   f      0.0     1.0      1.0    0.0   3.4   \n",
       "6  1832       0  2.0  55.534565   f      0.0     1.0      0.0    0.0   1.0   \n",
       "7  2466       1  2.0  53.056810   f      0.0     0.0      0.0    0.0   0.3   \n",
       "8  2400       1  1.0  42.507871   f      0.0     0.0      1.0    0.0   3.2   \n",
       "\n",
       "    chol  albumin  copper  alk.phos     ast   trig  platelet  protime  stage  \n",
       "0  261.0     2.60   156.0    1718.0  137.95  172.0     190.0     12.2    4.0  \n",
       "1  302.0     4.14    54.0    7394.8  113.52   88.0     221.0     10.6    3.0  \n",
       "2  176.0     3.48   210.0     516.0   96.10   55.0     151.0     12.0    4.0  \n",
       "3  244.0     2.54    64.0    6121.8   60.63   92.0     183.0     10.3    4.0  \n",
       "4  279.0     3.53   143.0     671.0  113.15   72.0     136.0     10.9    3.0  \n",
       "6  322.0     4.09    52.0     824.0   60.45  213.0     204.0      9.7    3.0  \n",
       "7  280.0     4.00    52.0    4651.2   28.38  189.0     373.0     11.0    3.0  \n",
       "8  562.0     3.08    79.0    2276.0  144.15   88.0     251.0     11.0    2.0  "
      ]
     },
     "execution_count": 4,
     "metadata": {},
     "output_type": "execute_result"
    }
   ],
   "source": [
    "# Only status 2 is an event\n",
    "df_no_nans['status']=df_no_nans['status'].replace(1,False)      \n",
    "df_no_nans['status']=df_no_nans['status'].replace(2,True) \n",
    "df_no_nans['status']=df_no_nans['status'].replace(0,False)\n",
    "df_no_nans.head(8)"
   ]
  },
  {
   "cell_type": "code",
   "execution_count": 5,
   "metadata": {},
   "outputs": [],
   "source": [
    "#Identify X and y\n",
    "from sksurv.datasets import get_x_y\n",
    "\n",
    "X, y = get_x_y(df_no_nans, attr_labels=['status','time'], pos_label=True)"
   ]
  },
  {
   "cell_type": "code",
   "execution_count": 6,
   "metadata": {},
   "outputs": [
    {
     "name": "stdout",
     "output_type": "stream",
     "text": [
      "samples: 276\n",
      "features/covariables: 17\n",
      "\n",
      "right censored samples: 165\n",
      "percentage of right censored samples: 59.8%\n"
     ]
    }
   ],
   "source": [
    "# number of samples, number of features/covariables\n",
    "print(f'samples: {X.shape[0]}')\n",
    "print(f'features/covariables: {X.shape[1]}\\n')\n",
    "print(f'right censored samples: {len(df_no_nans.query(\"status == False\"))}')\n",
    "print(f'percentage of right censored samples: {100*len(df_no_nans.query(\"status == False\"))/len(df_no_nans):.1f}%')"
   ]
  },
  {
   "cell_type": "code",
   "execution_count": 7,
   "metadata": {},
   "outputs": [
    {
     "name": "stdout",
     "output_type": "stream",
     "text": [
      "Number of training samples: 207\n",
      "Number of validation samples: 69\n"
     ]
    }
   ],
   "source": [
    "#Split on training and validation data\n",
    "from sklearn.model_selection import train_test_split\n",
    "\n",
    "X_trn, X_val, y_trn, y_val = train_test_split(X, y, random_state=42)\n",
    "\n",
    "print(f'Number of training samples: {len(y_trn)}')\n",
    "print(f'Number of validation samples: {len(y_val)}')"
   ]
  },
  {
   "cell_type": "code",
   "execution_count": 8,
   "metadata": {},
   "outputs": [
    {
     "data": {
      "text/plain": [
       "['age',\n",
       " 'bili',\n",
       " 'chol',\n",
       " 'albumin',\n",
       " 'copper',\n",
       " 'alk.phos',\n",
       " 'ast',\n",
       " 'trig',\n",
       " 'platelet',\n",
       " 'protime']"
      ]
     },
     "execution_count": 8,
     "metadata": {},
     "output_type": "execute_result"
    }
   ],
   "source": [
    "#Set the scaling columns\n",
    "scaling_cols=['age','bili','chol','albumin','copper','alk.phos','ast','trig','platelet','protime']\n",
    "scaling_cols"
   ]
  },
  {
   "cell_type": "code",
   "execution_count": 9,
   "metadata": {},
   "outputs": [
    {
     "data": {
      "text/plain": [
       "['trt', 'edema', 'sex', 'ascites', 'hepato', 'spiders', 'stage']"
      ]
     },
     "execution_count": 9,
     "metadata": {},
     "output_type": "execute_result"
    }
   ],
   "source": [
    "#Set categorical columns\n",
    "cat_cols=['trt','edema','sex','ascites','hepato','spiders','stage']\n",
    "cat_cols"
   ]
  },
  {
   "cell_type": "code",
   "execution_count": 10,
   "metadata": {},
   "outputs": [],
   "source": [
    "#Preprocessor\n",
    "from sklearn.compose import ColumnTransformer\n",
    "from sklearn.preprocessing import OrdinalEncoder\n",
    "from sklearn.preprocessing import StandardScaler\n",
    "from sklearn.preprocessing import OneHotEncoder\n",
    "\n",
    "preprocessor = ColumnTransformer(\n",
    "    [('cat-preprocessor', OrdinalEncoder(), cat_cols),\n",
    "    ('standard-scaler', StandardScaler(), scaling_cols)],\n",
    "    remainder='passthrough', sparse_threshold=0)"
   ]
  },
  {
   "cell_type": "markdown",
   "metadata": {},
   "source": [
    "## **Cox Proportional Hazards**"
   ]
  },
  {
   "cell_type": "code",
   "execution_count": 11,
   "metadata": {},
   "outputs": [
    {
     "name": "stdout",
     "output_type": "stream",
     "text": [
      "The c-index of Cox is given by 0.870\n"
     ]
    }
   ],
   "source": [
    "#Cox model for the original split\n",
    "from sklearn.pipeline import make_pipeline\n",
    "from sksurv.linear_model import CoxPHSurvivalAnalysis\n",
    "from sksurv.metrics import concordance_index_censored\n",
    "\n",
    "\n",
    "cox = make_pipeline(preprocessor, CoxPHSurvivalAnalysis())\n",
    "cox.fit(X_trn, y_trn)\n",
    "\n",
    "ci_cox = concordance_index_censored(y_val[\"status\"], y_val[\"time\"], cox.predict(X_val))\n",
    "print(f'The c-index of Cox is given by {ci_cox[0]:.3f}')"
   ]
  },
  {
   "cell_type": "code",
   "execution_count": 12,
   "metadata": {},
   "outputs": [],
   "source": [
    "#Cox model for each different split\n",
    "cox_scores = []\n",
    "for _seed in seeds:\n",
    "    X_trn, X_val, y_trn, y_val = train_test_split(X, y, random_state=_seed)\n",
    "  \n",
    "    cox = make_pipeline(preprocessor, CoxPHSurvivalAnalysis())\n",
    "    cox.fit(X_trn, y_trn)\n",
    "    cox_scores.append(cox.score(X_val, y_val))"
   ]
  },
  {
   "cell_type": "code",
   "execution_count": 13,
   "metadata": {},
   "outputs": [],
   "source": [
    "#Save results in a csv \n",
    "df_cox_scores = pd.DataFrame({'Seed': seeds, 'Cox PH' : cox_scores})\n",
    "df_cox_scores.to_csv('scores.csv', mode='w')"
   ]
  },
  {
   "cell_type": "markdown",
   "metadata": {},
   "source": [
    "## **Random Survival Forest**"
   ]
  },
  {
   "cell_type": "code",
   "execution_count": 14,
   "metadata": {},
   "outputs": [
    {
     "name": "stdout",
     "output_type": "stream",
     "text": [
      "The c-index of Random Survival Forest is given by 0.880\n"
     ]
    }
   ],
   "source": [
    "from sklearn.pipeline import make_pipeline\n",
    "from sksurv.ensemble import RandomSurvivalForest\n",
    "\n",
    "rsf = make_pipeline(preprocessor, RandomSurvivalForest(random_state=42))\n",
    "\n",
    "rsf.fit(X_trn, y_trn)\n",
    "\n",
    "ci_rsf = concordance_index_censored(y_val[\"status\"], y_val[\"time\"], rsf.predict(X_val))\n",
    "print(f'The c-index of Random Survival Forest is given by {ci_rsf[0]:.3f}')"
   ]
  },
  {
   "cell_type": "code",
   "execution_count": 15,
   "metadata": {},
   "outputs": [],
   "source": [
    "rsf_scores = []\n",
    "for _seed in seeds:\n",
    "    X_trn, X_val, y_trn, y_val = train_test_split(X, y, random_state=_seed)\n",
    "  \n",
    "    rsf = make_pipeline(preprocessor, RandomSurvivalForest(random_state=42))\n",
    "    rsf.fit(X_trn, y_trn)\n",
    "    rsf_scores.append(rsf.score(X_val, y_val))"
   ]
  },
  {
   "cell_type": "code",
   "execution_count": 16,
   "metadata": {},
   "outputs": [],
   "source": [
    "df_csv = pd.read_csv('scores.csv')\n",
    "df_csv['RSF'] = pd.Series(rsf_scores)\n",
    "df_csv.to_csv('scores.csv', mode='w')"
   ]
  },
  {
   "cell_type": "markdown",
   "metadata": {},
   "source": [
    "## **Gradient Boosting**"
   ]
  },
  {
   "cell_type": "code",
   "execution_count": 17,
   "metadata": {},
   "outputs": [
    {
     "name": "stdout",
     "output_type": "stream",
     "text": [
      "The c-index of Gradient Boosting Cox PH is given by 0.866\n"
     ]
    }
   ],
   "source": [
    "from sklearn.pipeline import make_pipeline\n",
    "from sksurv.ensemble import GradientBoostingSurvivalAnalysis\n",
    "from sksurv.metrics import concordance_index_censored\n",
    "\n",
    "gbc = make_pipeline(preprocessor, GradientBoostingSurvivalAnalysis(random_state=42))\n",
    "\n",
    "gbc.fit(X_trn, y_trn)\n",
    "\n",
    "ci_gbc = concordance_index_censored(y_val[\"status\"], y_val[\"time\"], gbc.predict(X_val))\n",
    "print(f'The c-index of Gradient Boosting Cox PH is given by {ci_gbc[0]:.3f}')\n"
   ]
  },
  {
   "cell_type": "code",
   "execution_count": 18,
   "metadata": {},
   "outputs": [],
   "source": [
    "gbc_scores = []\n",
    "for _seed in seeds:\n",
    "    X_trn, X_val, y_trn, y_val = train_test_split(X, y, random_state=_seed)\n",
    "  \n",
    "    gbc = make_pipeline(preprocessor, GradientBoostingSurvivalAnalysis(random_state=42))\n",
    "    gbc.fit(X_trn, y_trn)\n",
    "    gbc_scores.append(gbc.score(X_val, y_val))"
   ]
  },
  {
   "cell_type": "code",
   "execution_count": 19,
   "metadata": {},
   "outputs": [],
   "source": [
    "df_csv = pd.read_csv('scores.csv')\n",
    "df_csv['GBC'] = pd.Series(gbc_scores)\n",
    "df_csv.to_csv('scores.csv', mode='w')"
   ]
  },
  {
   "cell_type": "markdown",
   "metadata": {},
   "source": [
    "## **Weibull AFT**"
   ]
  },
  {
   "cell_type": "code",
   "execution_count": 20,
   "metadata": {},
   "outputs": [],
   "source": [
    "columns_encoded = X_trn.columns\n",
    "\n",
    "X_trn1 = preprocessor.fit_transform(X_trn)\n",
    "X_val1 = preprocessor.transform(X_val)\n",
    "\n",
    "X_trn1 = pd.DataFrame(X_trn1, columns=columns_encoded)\n",
    "X_val1 = pd.DataFrame(X_val1, columns=columns_encoded)"
   ]
  },
  {
   "cell_type": "code",
   "execution_count": 21,
   "metadata": {},
   "outputs": [],
   "source": [
    "X_trn1['status'] = y_trn['status']\n",
    "X_val1['status'] = y_val['status']"
   ]
  },
  {
   "cell_type": "code",
   "execution_count": 22,
   "metadata": {},
   "outputs": [
    {
     "name": "stdout",
     "output_type": "stream",
     "text": [
      "The c-index of Weibull AFT is given by 0.860\n"
     ]
    }
   ],
   "source": [
    "from lifelines.utils.sklearn_adapter import sklearn_adapter\n",
    "from lifelines import WeibullAFTFitter\n",
    "\n",
    "WeibullAFTRegression = sklearn_adapter(WeibullAFTFitter, event_col='status')\n",
    "sk_aft = WeibullAFTRegression()\n",
    "sk_aft.fit(X_trn1, y_trn['time'])\n",
    "ci_aft = sk_aft.score(X_val1, y_val['time'])\n",
    "print(f'The c-index of Weibull AFT is given by {ci_aft:.3f}')"
   ]
  },
  {
   "cell_type": "code",
   "execution_count": 23,
   "metadata": {},
   "outputs": [],
   "source": [
    "aft_scores = []\n",
    "for _seed in seeds:\n",
    "    X_trn, X_val, y_trn, y_val = train_test_split(X, y, random_state=_seed)\n",
    "    \n",
    "    X_trn1 = preprocessor.fit_transform(X_trn)\n",
    "    X_val1 = preprocessor.transform(X_val)\n",
    "    X_trn1 = pd.DataFrame(X_trn1, columns=columns_encoded)\n",
    "    X_val1 = pd.DataFrame(X_val1, columns=columns_encoded)\n",
    "    X_trn1['status'] = y_trn['status']\n",
    "    X_val1['status'] = y_val['status']\n",
    "  \n",
    "    WeibullAFTRegression = sklearn_adapter(WeibullAFTFitter, event_col='status')\n",
    "    sk_aft = WeibullAFTRegression()\n",
    "    sk_aft.fit(X_trn1, y_trn['time'])\n",
    "    \n",
    "    aft_scores.append(sk_aft.score(X_val1, y_val['time']))"
   ]
  },
  {
   "cell_type": "code",
   "execution_count": 24,
   "metadata": {},
   "outputs": [],
   "source": [
    "df_csv = pd.read_csv('scores.csv')\n",
    "df_csv['AFT'] = pd.Series(aft_scores)\n",
    "df_csv.to_csv('scores.csv', mode='w')"
   ]
  },
  {
   "cell_type": "markdown",
   "metadata": {},
   "source": [
    "## **Aalen's Additive**"
   ]
  },
  {
   "cell_type": "code",
   "execution_count": 25,
   "metadata": {},
   "outputs": [
    {
     "name": "stdout",
     "output_type": "stream",
     "text": [
      "The c-index of Aalen's additive model is given by 0.840\n"
     ]
    }
   ],
   "source": [
    "from lifelines import AalenAdditiveFitter\n",
    "\n",
    "AalenAdditiveRegression = sklearn_adapter(AalenAdditiveFitter, event_col='status')\n",
    "sk_aa = AalenAdditiveRegression()\n",
    "sk_aa.fit(X_trn1, y_trn['time'])\n",
    "ci_aa = sk_aa.score(X_val1, y_val['time'])\n",
    "print(f\"The c-index of Aalen's additive model is given by {ci_aa:.3f}\")"
   ]
  },
  {
   "cell_type": "code",
   "execution_count": 26,
   "metadata": {},
   "outputs": [
    {
     "name": "stderr",
     "output_type": "stream",
     "text": [
      "c:\\users\\cami_\\miniconda3\\lib\\site-packages\\lifelines\\fitters\\aalen_additive_fitter.py:239: ConvergenceWarning: Linear regression error at index=72, time=3170.000. Try increasing the coef_penalizer value.\n",
      "  ConvergenceWarning,\n",
      "c:\\users\\cami_\\miniconda3\\lib\\site-packages\\lifelines\\fitters\\aalen_additive_fitter.py:239: ConvergenceWarning: Linear regression error at index=73, time=3244.000. Try increasing the coef_penalizer value.\n",
      "  ConvergenceWarning,\n",
      "c:\\users\\cami_\\miniconda3\\lib\\site-packages\\lifelines\\fitters\\aalen_additive_fitter.py:239: ConvergenceWarning: Linear regression error at index=74, time=3282.000. Try increasing the coef_penalizer value.\n",
      "  ConvergenceWarning,\n",
      "c:\\users\\cami_\\miniconda3\\lib\\site-packages\\lifelines\\fitters\\aalen_additive_fitter.py:239: ConvergenceWarning: Linear regression error at index=75, time=3574.000. Try increasing the coef_penalizer value.\n",
      "  ConvergenceWarning,\n",
      "c:\\users\\cami_\\miniconda3\\lib\\site-packages\\lifelines\\fitters\\aalen_additive_fitter.py:239: ConvergenceWarning: Linear regression error at index=76, time=3584.000. Try increasing the coef_penalizer value.\n",
      "  ConvergenceWarning,\n",
      "c:\\users\\cami_\\miniconda3\\lib\\site-packages\\lifelines\\fitters\\aalen_additive_fitter.py:239: ConvergenceWarning: Linear regression error at index=77, time=3762.000. Try increasing the coef_penalizer value.\n",
      "  ConvergenceWarning,\n",
      "c:\\users\\cami_\\miniconda3\\lib\\site-packages\\lifelines\\fitters\\aalen_additive_fitter.py:239: ConvergenceWarning: Linear regression error at index=78, time=3839.000. Try increasing the coef_penalizer value.\n",
      "  ConvergenceWarning,\n",
      "c:\\users\\cami_\\miniconda3\\lib\\site-packages\\lifelines\\fitters\\aalen_additive_fitter.py:239: ConvergenceWarning: Linear regression error at index=79, time=4079.000. Try increasing the coef_penalizer value.\n",
      "  ConvergenceWarning,\n",
      "c:\\users\\cami_\\miniconda3\\lib\\site-packages\\lifelines\\fitters\\aalen_additive_fitter.py:239: ConvergenceWarning: Linear regression error at index=66, time=3170.000. Try increasing the coef_penalizer value.\n",
      "  ConvergenceWarning,\n",
      "c:\\users\\cami_\\miniconda3\\lib\\site-packages\\lifelines\\fitters\\aalen_additive_fitter.py:239: ConvergenceWarning: Linear regression error at index=67, time=3244.000. Try increasing the coef_penalizer value.\n",
      "  ConvergenceWarning,\n",
      "c:\\users\\cami_\\miniconda3\\lib\\site-packages\\lifelines\\fitters\\aalen_additive_fitter.py:239: ConvergenceWarning: Linear regression error at index=68, time=3282.000. Try increasing the coef_penalizer value.\n",
      "  ConvergenceWarning,\n",
      "c:\\users\\cami_\\miniconda3\\lib\\site-packages\\lifelines\\fitters\\aalen_additive_fitter.py:239: ConvergenceWarning: Linear regression error at index=69, time=3395.000. Try increasing the coef_penalizer value.\n",
      "  ConvergenceWarning,\n",
      "c:\\users\\cami_\\miniconda3\\lib\\site-packages\\lifelines\\fitters\\aalen_additive_fitter.py:239: ConvergenceWarning: Linear regression error at index=70, time=3574.000. Try increasing the coef_penalizer value.\n",
      "  ConvergenceWarning,\n",
      "c:\\users\\cami_\\miniconda3\\lib\\site-packages\\lifelines\\fitters\\aalen_additive_fitter.py:239: ConvergenceWarning: Linear regression error at index=71, time=3584.000. Try increasing the coef_penalizer value.\n",
      "  ConvergenceWarning,\n",
      "c:\\users\\cami_\\miniconda3\\lib\\site-packages\\lifelines\\fitters\\aalen_additive_fitter.py:239: ConvergenceWarning: Linear regression error at index=72, time=3762.000. Try increasing the coef_penalizer value.\n",
      "  ConvergenceWarning,\n",
      "c:\\users\\cami_\\miniconda3\\lib\\site-packages\\lifelines\\fitters\\aalen_additive_fitter.py:239: ConvergenceWarning: Linear regression error at index=73, time=3839.000. Try increasing the coef_penalizer value.\n",
      "  ConvergenceWarning,\n",
      "c:\\users\\cami_\\miniconda3\\lib\\site-packages\\lifelines\\fitters\\aalen_additive_fitter.py:239: ConvergenceWarning: Linear regression error at index=74, time=3853.000. Try increasing the coef_penalizer value.\n",
      "  ConvergenceWarning,\n",
      "c:\\users\\cami_\\miniconda3\\lib\\site-packages\\lifelines\\fitters\\aalen_additive_fitter.py:239: ConvergenceWarning: Linear regression error at index=75, time=4079.000. Try increasing the coef_penalizer value.\n",
      "  ConvergenceWarning,\n",
      "c:\\users\\cami_\\miniconda3\\lib\\site-packages\\lifelines\\fitters\\aalen_additive_fitter.py:239: ConvergenceWarning: Linear regression error at index=76, time=4191.000. Try increasing the coef_penalizer value.\n",
      "  ConvergenceWarning,\n",
      "c:\\users\\cami_\\miniconda3\\lib\\site-packages\\lifelines\\fitters\\aalen_additive_fitter.py:239: ConvergenceWarning: Linear regression error at index=70, time=3170.000. Try increasing the coef_penalizer value.\n",
      "  ConvergenceWarning,\n",
      "c:\\users\\cami_\\miniconda3\\lib\\site-packages\\lifelines\\fitters\\aalen_additive_fitter.py:239: ConvergenceWarning: Linear regression error at index=71, time=3244.000. Try increasing the coef_penalizer value.\n",
      "  ConvergenceWarning,\n",
      "c:\\users\\cami_\\miniconda3\\lib\\site-packages\\lifelines\\fitters\\aalen_additive_fitter.py:239: ConvergenceWarning: Linear regression error at index=72, time=3282.000. Try increasing the coef_penalizer value.\n",
      "  ConvergenceWarning,\n",
      "c:\\users\\cami_\\miniconda3\\lib\\site-packages\\lifelines\\fitters\\aalen_additive_fitter.py:239: ConvergenceWarning: Linear regression error at index=73, time=3358.000. Try increasing the coef_penalizer value.\n",
      "  ConvergenceWarning,\n",
      "c:\\users\\cami_\\miniconda3\\lib\\site-packages\\lifelines\\fitters\\aalen_additive_fitter.py:239: ConvergenceWarning: Linear regression error at index=74, time=3395.000. Try increasing the coef_penalizer value.\n",
      "  ConvergenceWarning,\n",
      "c:\\users\\cami_\\miniconda3\\lib\\site-packages\\lifelines\\fitters\\aalen_additive_fitter.py:239: ConvergenceWarning: Linear regression error at index=75, time=3428.000. Try increasing the coef_penalizer value.\n",
      "  ConvergenceWarning,\n",
      "c:\\users\\cami_\\miniconda3\\lib\\site-packages\\lifelines\\fitters\\aalen_additive_fitter.py:239: ConvergenceWarning: Linear regression error at index=76, time=3445.000. Try increasing the coef_penalizer value.\n",
      "  ConvergenceWarning,\n",
      "c:\\users\\cami_\\miniconda3\\lib\\site-packages\\lifelines\\fitters\\aalen_additive_fitter.py:239: ConvergenceWarning: Linear regression error at index=77, time=3584.000. Try increasing the coef_penalizer value.\n",
      "  ConvergenceWarning,\n",
      "c:\\users\\cami_\\miniconda3\\lib\\site-packages\\lifelines\\fitters\\aalen_additive_fitter.py:239: ConvergenceWarning: Linear regression error at index=78, time=3839.000. Try increasing the coef_penalizer value.\n",
      "  ConvergenceWarning,\n",
      "c:\\users\\cami_\\miniconda3\\lib\\site-packages\\lifelines\\fitters\\aalen_additive_fitter.py:239: ConvergenceWarning: Linear regression error at index=79, time=3853.000. Try increasing the coef_penalizer value.\n",
      "  ConvergenceWarning,\n",
      "c:\\users\\cami_\\miniconda3\\lib\\site-packages\\lifelines\\fitters\\aalen_additive_fitter.py:239: ConvergenceWarning: Linear regression error at index=80, time=4079.000. Try increasing the coef_penalizer value.\n",
      "  ConvergenceWarning,\n",
      "c:\\users\\cami_\\miniconda3\\lib\\site-packages\\lifelines\\fitters\\aalen_additive_fitter.py:239: ConvergenceWarning: Linear regression error at index=81, time=4191.000. Try increasing the coef_penalizer value.\n",
      "  ConvergenceWarning,\n",
      "c:\\users\\cami_\\miniconda3\\lib\\site-packages\\lifelines\\fitters\\aalen_additive_fitter.py:239: ConvergenceWarning: Linear regression error at index=71, time=3170.000. Try increasing the coef_penalizer value.\n",
      "  ConvergenceWarning,\n",
      "c:\\users\\cami_\\miniconda3\\lib\\site-packages\\lifelines\\fitters\\aalen_additive_fitter.py:239: ConvergenceWarning: Linear regression error at index=72, time=3244.000. Try increasing the coef_penalizer value.\n",
      "  ConvergenceWarning,\n",
      "c:\\users\\cami_\\miniconda3\\lib\\site-packages\\lifelines\\fitters\\aalen_additive_fitter.py:239: ConvergenceWarning: Linear regression error at index=73, time=3282.000. Try increasing the coef_penalizer value.\n",
      "  ConvergenceWarning,\n",
      "c:\\users\\cami_\\miniconda3\\lib\\site-packages\\lifelines\\fitters\\aalen_additive_fitter.py:239: ConvergenceWarning: Linear regression error at index=74, time=3395.000. Try increasing the coef_penalizer value.\n",
      "  ConvergenceWarning,\n",
      "c:\\users\\cami_\\miniconda3\\lib\\site-packages\\lifelines\\fitters\\aalen_additive_fitter.py:239: ConvergenceWarning: Linear regression error at index=75, time=3574.000. Try increasing the coef_penalizer value.\n",
      "  ConvergenceWarning,\n",
      "c:\\users\\cami_\\miniconda3\\lib\\site-packages\\lifelines\\fitters\\aalen_additive_fitter.py:239: ConvergenceWarning: Linear regression error at index=76, time=3584.000. Try increasing the coef_penalizer value.\n",
      "  ConvergenceWarning,\n",
      "c:\\users\\cami_\\miniconda3\\lib\\site-packages\\lifelines\\fitters\\aalen_additive_fitter.py:239: ConvergenceWarning: Linear regression error at index=77, time=3762.000. Try increasing the coef_penalizer value.\n",
      "  ConvergenceWarning,\n",
      "c:\\users\\cami_\\miniconda3\\lib\\site-packages\\lifelines\\fitters\\aalen_additive_fitter.py:239: ConvergenceWarning: Linear regression error at index=78, time=3853.000. Try increasing the coef_penalizer value.\n",
      "  ConvergenceWarning,\n",
      "c:\\users\\cami_\\miniconda3\\lib\\site-packages\\lifelines\\fitters\\aalen_additive_fitter.py:239: ConvergenceWarning: Linear regression error at index=79, time=4191.000. Try increasing the coef_penalizer value.\n",
      "  ConvergenceWarning,\n"
     ]
    },
    {
     "name": "stderr",
     "output_type": "stream",
     "text": [
      "c:\\users\\cami_\\miniconda3\\lib\\site-packages\\lifelines\\fitters\\aalen_additive_fitter.py:239: ConvergenceWarning: Linear regression error at index=77, time=3170.000. Try increasing the coef_penalizer value.\n",
      "  ConvergenceWarning,\n",
      "c:\\users\\cami_\\miniconda3\\lib\\site-packages\\lifelines\\fitters\\aalen_additive_fitter.py:239: ConvergenceWarning: Linear regression error at index=78, time=3244.000. Try increasing the coef_penalizer value.\n",
      "  ConvergenceWarning,\n",
      "c:\\users\\cami_\\miniconda3\\lib\\site-packages\\lifelines\\fitters\\aalen_additive_fitter.py:239: ConvergenceWarning: Linear regression error at index=79, time=3282.000. Try increasing the coef_penalizer value.\n",
      "  ConvergenceWarning,\n",
      "c:\\users\\cami_\\miniconda3\\lib\\site-packages\\lifelines\\fitters\\aalen_additive_fitter.py:239: ConvergenceWarning: Linear regression error at index=80, time=3395.000. Try increasing the coef_penalizer value.\n",
      "  ConvergenceWarning,\n",
      "c:\\users\\cami_\\miniconda3\\lib\\site-packages\\lifelines\\fitters\\aalen_additive_fitter.py:239: ConvergenceWarning: Linear regression error at index=81, time=3428.000. Try increasing the coef_penalizer value.\n",
      "  ConvergenceWarning,\n",
      "c:\\users\\cami_\\miniconda3\\lib\\site-packages\\lifelines\\fitters\\aalen_additive_fitter.py:239: ConvergenceWarning: Linear regression error at index=82, time=3445.000. Try increasing the coef_penalizer value.\n",
      "  ConvergenceWarning,\n",
      "c:\\users\\cami_\\miniconda3\\lib\\site-packages\\lifelines\\fitters\\aalen_additive_fitter.py:239: ConvergenceWarning: Linear regression error at index=83, time=3584.000. Try increasing the coef_penalizer value.\n",
      "  ConvergenceWarning,\n",
      "c:\\users\\cami_\\miniconda3\\lib\\site-packages\\lifelines\\fitters\\aalen_additive_fitter.py:239: ConvergenceWarning: Linear regression error at index=84, time=3839.000. Try increasing the coef_penalizer value.\n",
      "  ConvergenceWarning,\n",
      "c:\\users\\cami_\\miniconda3\\lib\\site-packages\\lifelines\\fitters\\aalen_additive_fitter.py:239: ConvergenceWarning: Linear regression error at index=85, time=4079.000. Try increasing the coef_penalizer value.\n",
      "  ConvergenceWarning,\n",
      "c:\\users\\cami_\\miniconda3\\lib\\site-packages\\lifelines\\fitters\\aalen_additive_fitter.py:239: ConvergenceWarning: Linear regression error at index=86, time=4191.000. Try increasing the coef_penalizer value.\n",
      "  ConvergenceWarning,\n",
      "c:\\users\\cami_\\miniconda3\\lib\\site-packages\\lifelines\\fitters\\aalen_additive_fitter.py:239: ConvergenceWarning: Linear regression error at index=71, time=3170.000. Try increasing the coef_penalizer value.\n",
      "  ConvergenceWarning,\n",
      "c:\\users\\cami_\\miniconda3\\lib\\site-packages\\lifelines\\fitters\\aalen_additive_fitter.py:239: ConvergenceWarning: Linear regression error at index=72, time=3244.000. Try increasing the coef_penalizer value.\n",
      "  ConvergenceWarning,\n",
      "c:\\users\\cami_\\miniconda3\\lib\\site-packages\\lifelines\\fitters\\aalen_additive_fitter.py:239: ConvergenceWarning: Linear regression error at index=73, time=3282.000. Try increasing the coef_penalizer value.\n",
      "  ConvergenceWarning,\n",
      "c:\\users\\cami_\\miniconda3\\lib\\site-packages\\lifelines\\fitters\\aalen_additive_fitter.py:239: ConvergenceWarning: Linear regression error at index=74, time=3358.000. Try increasing the coef_penalizer value.\n",
      "  ConvergenceWarning,\n",
      "c:\\users\\cami_\\miniconda3\\lib\\site-packages\\lifelines\\fitters\\aalen_additive_fitter.py:239: ConvergenceWarning: Linear regression error at index=75, time=3428.000. Try increasing the coef_penalizer value.\n",
      "  ConvergenceWarning,\n",
      "c:\\users\\cami_\\miniconda3\\lib\\site-packages\\lifelines\\fitters\\aalen_additive_fitter.py:239: ConvergenceWarning: Linear regression error at index=76, time=3445.000. Try increasing the coef_penalizer value.\n",
      "  ConvergenceWarning,\n",
      "c:\\users\\cami_\\miniconda3\\lib\\site-packages\\lifelines\\fitters\\aalen_additive_fitter.py:239: ConvergenceWarning: Linear regression error at index=77, time=3574.000. Try increasing the coef_penalizer value.\n",
      "  ConvergenceWarning,\n",
      "c:\\users\\cami_\\miniconda3\\lib\\site-packages\\lifelines\\fitters\\aalen_additive_fitter.py:239: ConvergenceWarning: Linear regression error at index=78, time=3584.000. Try increasing the coef_penalizer value.\n",
      "  ConvergenceWarning,\n",
      "c:\\users\\cami_\\miniconda3\\lib\\site-packages\\lifelines\\fitters\\aalen_additive_fitter.py:239: ConvergenceWarning: Linear regression error at index=79, time=3762.000. Try increasing the coef_penalizer value.\n",
      "  ConvergenceWarning,\n",
      "c:\\users\\cami_\\miniconda3\\lib\\site-packages\\lifelines\\fitters\\aalen_additive_fitter.py:239: ConvergenceWarning: Linear regression error at index=80, time=3839.000. Try increasing the coef_penalizer value.\n",
      "  ConvergenceWarning,\n",
      "c:\\users\\cami_\\miniconda3\\lib\\site-packages\\lifelines\\fitters\\aalen_additive_fitter.py:239: ConvergenceWarning: Linear regression error at index=81, time=3853.000. Try increasing the coef_penalizer value.\n",
      "  ConvergenceWarning,\n",
      "c:\\users\\cami_\\miniconda3\\lib\\site-packages\\lifelines\\fitters\\aalen_additive_fitter.py:239: ConvergenceWarning: Linear regression error at index=82, time=4079.000. Try increasing the coef_penalizer value.\n",
      "  ConvergenceWarning,\n",
      "c:\\users\\cami_\\miniconda3\\lib\\site-packages\\lifelines\\fitters\\aalen_additive_fitter.py:239: ConvergenceWarning: Linear regression error at index=83, time=4191.000. Try increasing the coef_penalizer value.\n",
      "  ConvergenceWarning,\n"
     ]
    }
   ],
   "source": [
    "aa_scores = []\n",
    "for _seed in seeds:\n",
    "    X_trn, X_val, y_trn, y_val = train_test_split(X, y, random_state=_seed)\n",
    "    \n",
    "    X_trn1 = preprocessor.fit_transform(X_trn)\n",
    "    X_val1 = preprocessor.transform(X_val)\n",
    "    X_trn1 = pd.DataFrame(X_trn1, columns=columns_encoded)\n",
    "    X_val1 = pd.DataFrame(X_val1, columns=columns_encoded)\n",
    "    X_trn1['status'] = y_trn['status']\n",
    "    X_val1['status'] = y_val['status']\n",
    "  \n",
    "    AalenAdditiveRegression = sklearn_adapter(AalenAdditiveFitter, event_col='status')\n",
    "    sk_aa = AalenAdditiveRegression()\n",
    "    sk_aa.fit(X_trn1, y_trn['time'])\n",
    "    \n",
    "    aa_scores.append(sk_aa.score(X_val1, y_val['time']))"
   ]
  },
  {
   "cell_type": "code",
   "execution_count": 27,
   "metadata": {},
   "outputs": [],
   "source": [
    "df_csv = pd.read_csv('scores.csv')\n",
    "df_csv['Aalen'] = pd.Series(aa_scores)\n",
    "df_csv.to_csv('scores.csv', mode='w')"
   ]
  },
  {
   "cell_type": "markdown",
   "metadata": {},
   "source": [
    "## **Cox Randomized Search**"
   ]
  },
  {
   "cell_type": "code",
   "execution_count": 28,
   "metadata": {},
   "outputs": [
    {
     "name": "stdout",
     "output_type": "stream",
     "text": [
      "The c-index of Cox using a RandomizedSearchCV is 0.895\n",
      "The best set of parameters is: {'coxphsurvivalanalysis__alpha': 31.428808908401084}\n"
     ]
    },
    {
     "name": "stderr",
     "output_type": "stream",
     "text": [
      "c:\\users\\cami_\\miniconda3\\lib\\site-packages\\sklearn\\model_selection\\_search.py:814: DeprecationWarning: The default of the `iid` parameter will change from True to False in version 0.22 and will be removed in 0.24. This will change numeric results when test-set sizes are unequal.\n",
      "  DeprecationWarning)\n"
     ]
    }
   ],
   "source": [
    "from scipy.stats import reciprocal\n",
    "from sklearn.model_selection import RandomizedSearchCV\n",
    "\n",
    "param_distributions = {\n",
    "    'coxphsurvivalanalysis__alpha': reciprocal(0.1, 100),\n",
    "}\n",
    "\n",
    "model_random_search = RandomizedSearchCV(cox, param_distributions=param_distributions, n_iter=50, n_jobs=-1, cv=5, random_state=42)\n",
    "model_random_search.fit(X_trn, y_trn)\n",
    "\n",
    "print(\n",
    "    f\"The c-index of Cox using a {model_random_search.__class__.__name__} is \"\n",
    "    f\"{model_random_search.score(X_val, y_val):.3f}\")\n",
    "print(\n",
    "    f\"The best set of parameters is: {model_random_search.best_params_}\"\n",
    ")"
   ]
  },
  {
   "cell_type": "code",
   "execution_count": 29,
   "metadata": {},
   "outputs": [],
   "source": [
    "alpha = model_random_search.best_params_\n",
    "alpha = np.array( tuple(alpha.values()) )"
   ]
  },
  {
   "cell_type": "code",
   "execution_count": 30,
   "metadata": {},
   "outputs": [],
   "source": [
    "cox_rs_scores = []\n",
    "for _seed in seeds:\n",
    "    X_trn, X_val, y_trn, y_val = train_test_split(X, y, random_state=_seed)\n",
    "  \n",
    "    cox_rs = make_pipeline(preprocessor, CoxPHSurvivalAnalysis(alpha))\n",
    "    cox_rs.fit(X_trn, y_trn)\n",
    "    cox_rs_scores.append(cox_rs.score(X_val, y_val))"
   ]
  },
  {
   "cell_type": "code",
   "execution_count": 31,
   "metadata": {},
   "outputs": [],
   "source": [
    "df_csv = pd.read_csv('scores.csv')\n",
    "df_csv['RS Cox'] = pd.Series(cox_rs_scores)\n",
    "df_csv.to_csv('scores.csv', mode='w')"
   ]
  },
  {
   "cell_type": "markdown",
   "metadata": {},
   "source": [
    "## **RSF Randomized Search**"
   ]
  },
  {
   "cell_type": "code",
   "execution_count": 32,
   "metadata": {},
   "outputs": [
    {
     "name": "stderr",
     "output_type": "stream",
     "text": [
      "c:\\users\\cami_\\miniconda3\\lib\\site-packages\\sklearn\\model_selection\\_search.py:814: DeprecationWarning: The default of the `iid` parameter will change from True to False in version 0.22 and will be removed in 0.24. This will change numeric results when test-set sizes are unequal.\n",
      "  DeprecationWarning)\n"
     ]
    },
    {
     "name": "stdout",
     "output_type": "stream",
     "text": [
      "The c-index of random survival forest using a RandomizedSearchCV is 0.883\n",
      "The best set of parameters is: {'randomsurvivalforest__max_depth': 6, 'randomsurvivalforest__max_features': 3, 'randomsurvivalforest__min_samples_leaf': 3}\n"
     ]
    }
   ],
   "source": [
    "from scipy.stats import reciprocal\n",
    "from sklearn.model_selection import RandomizedSearchCV\n",
    "\n",
    "class reciprocal_int:\n",
    "    def __init__(self, a, b):\n",
    "        self._distribution = reciprocal(a, b)\n",
    "\n",
    "    def rvs(self, *args, **kwargs):\n",
    "        return self._distribution.rvs(*args, **kwargs).astype(int)\n",
    "\n",
    "param_distributions1 = {\n",
    "    'randomsurvivalforest__max_features': reciprocal_int(3, 8),\n",
    "    'randomsurvivalforest__max_depth': reciprocal_int(5, 50),\n",
    "    'randomsurvivalforest__min_samples_leaf': reciprocal_int(1, 40),\n",
    "}\n",
    "\n",
    "model_random_search = RandomizedSearchCV(\n",
    "    rsf, param_distributions=param_distributions1, n_iter=50, n_jobs=-1, cv=5, random_state=42)\n",
    "model_random_search.fit(X_trn, y_trn)\n",
    "\n",
    "print(\n",
    "    f\"The c-index of random survival forest using a {model_random_search.__class__.__name__} is \"\n",
    "    f\"{model_random_search.score(X_val, y_val):.3f}\")\n",
    "print(\n",
    "    f\"The best set of parameters is: {model_random_search.best_params_}\"\n",
    ")"
   ]
  },
  {
   "cell_type": "code",
   "execution_count": 34,
   "metadata": {},
   "outputs": [],
   "source": [
    "params = model_random_search.best_params_\n",
    "params = np.array(tuple(params.values()))"
   ]
  },
  {
   "cell_type": "code",
   "execution_count": 35,
   "metadata": {},
   "outputs": [],
   "source": [
    "rsf_rs_scores = []\n",
    "for _seed in seeds:\n",
    "    X_trn, X_val, y_trn, y_val = train_test_split(X, y, random_state=_seed)\n",
    "  \n",
    "    rsf_rs = make_pipeline(preprocessor, RandomSurvivalForest(max_depth=params[0], max_features=params[1], min_samples_leaf=params[2], random_state=42))\n",
    "    rsf_rs.fit(X_trn, y_trn)\n",
    "    rsf_rs_scores.append(rsf_rs.score(X_val, y_val))"
   ]
  },
  {
   "cell_type": "code",
   "execution_count": 36,
   "metadata": {},
   "outputs": [],
   "source": [
    "df_csv = pd.read_csv('scores.csv')\n",
    "df_csv['RS RSF'] = pd.Series(rsf_rs_scores)\n",
    "df_csv.to_csv('scores.csv', mode='w')"
   ]
  },
  {
   "cell_type": "markdown",
   "metadata": {},
   "source": [
    "## **Gradient Boosting Randomized Search**"
   ]
  },
  {
   "cell_type": "code",
   "execution_count": 37,
   "metadata": {},
   "outputs": [
    {
     "name": "stdout",
     "output_type": "stream",
     "text": [
      "The c-index of gradient boosting Cox PH using a RandomizedSearchCV is 0.860\n",
      "The best set of parameters is: {'gradientboostingsurvivalanalysis__learning_rate': 0.07947147424653742, 'gradientboostingsurvivalanalysis__max_depth': 37, 'gradientboostingsurvivalanalysis__min_samples_leaf': 19}\n"
     ]
    },
    {
     "name": "stderr",
     "output_type": "stream",
     "text": [
      "c:\\users\\cami_\\miniconda3\\lib\\site-packages\\sklearn\\model_selection\\_search.py:814: DeprecationWarning: The default of the `iid` parameter will change from True to False in version 0.22 and will be removed in 0.24. This will change numeric results when test-set sizes are unequal.\n",
      "  DeprecationWarning)\n"
     ]
    }
   ],
   "source": [
    "from scipy.stats import reciprocal\n",
    "from sklearn.model_selection import RandomizedSearchCV\n",
    "\n",
    "class reciprocal_int:\n",
    "    def __init__(self, a, b):\n",
    "        self._distribution = reciprocal(a, b)\n",
    "\n",
    "    def rvs(self, *args, **kwargs):\n",
    "        return self._distribution.rvs(*args, **kwargs).astype(int)\n",
    "\n",
    "param_distributions2 = {\n",
    "    'gradientboostingsurvivalanalysis__learning_rate': reciprocal(0.001, 1),\n",
    "    'gradientboostingsurvivalanalysis__max_depth': reciprocal_int(5, 50),\n",
    "    'gradientboostingsurvivalanalysis__min_samples_leaf': reciprocal_int(1, 40),\n",
    "}\n",
    "\n",
    "model_random_search = RandomizedSearchCV(gbc, param_distributions=param_distributions2, n_iter=50, n_jobs=-1, cv=5, random_state=42)\n",
    "model_random_search.fit(X_trn, y_trn)\n",
    "\n",
    "print(\n",
    "    f\"The c-index of gradient boosting Cox PH using a {model_random_search.__class__.__name__} is \"\n",
    "    f\"{model_random_search.score(X_val, y_val):.3f}\")\n",
    "print(\n",
    "    f\"The best set of parameters is: {model_random_search.best_params_}\"\n",
    ")"
   ]
  },
  {
   "cell_type": "code",
   "execution_count": 38,
   "metadata": {},
   "outputs": [],
   "source": [
    "gb_params = model_random_search.best_params_\n",
    "gb_params = np.array(tuple(gb_params.values()))"
   ]
  },
  {
   "cell_type": "code",
   "execution_count": 39,
   "metadata": {},
   "outputs": [],
   "source": [
    "gbc_rs_scores = []\n",
    "for _seed in seeds:\n",
    "    X_trn, X_val, y_trn, y_val = train_test_split(X, y, random_state=_seed)\n",
    "  \n",
    "    gbc_rs = make_pipeline(preprocessor, GradientBoostingSurvivalAnalysis(learning_rate= gb_params[0], \\\n",
    "                                                                         max_depth= gb_params[1], min_samples_leaf= gb_params[2], \\\n",
    "                                                                         random_state=42))\n",
    "    gbc_rs.fit(X_trn, y_trn)\n",
    "    gbc_rs_scores.append(gbc_rs.score(X_val, y_val))"
   ]
  },
  {
   "cell_type": "code",
   "execution_count": 40,
   "metadata": {},
   "outputs": [],
   "source": [
    "df_csv = pd.read_csv('scores.csv')\n",
    "df_csv['RS GBC'] = pd.Series(gbc_rs_scores)\n",
    "df_csv.to_csv('scores.csv', mode='w')"
   ]
  },
  {
   "cell_type": "markdown",
   "metadata": {},
   "source": [
    "## **DeepSurv**"
   ]
  },
  {
   "cell_type": "code",
   "execution_count": 41,
   "metadata": {},
   "outputs": [
    {
     "name": "stderr",
     "output_type": "stream",
     "text": [
      "% Completion: 100%|***********************************************|Loss: 248.15\n"
     ]
    },
    {
     "name": "stdout",
     "output_type": "stream",
     "text": [
      "The c-index of DeepSurv is given by 0.900\n"
     ]
    }
   ],
   "source": [
    "from pysurvival.models.semi_parametric import NonLinearCoxPHModel\n",
    "\n",
    "structure = [ {'activation': 'ReLU', 'num_units': 60}, {'activation': 'ReLU', 'num_units': 10}, ]\n",
    "\n",
    "# Building the model\n",
    "nonlinear_coxph = NonLinearCoxPHModel(structure=structure)\n",
    "nonlinear_coxph.fit(X_trn1, y_trn[\"time\"], y_trn[\"status\"])\n",
    "\n",
    "ci_deepsurv = concordance_index_censored(y_val[\"status\"], y_val[\"time\"], nonlinear_coxph.predict_risk(X_val1))\n",
    "\n",
    "print(f'The c-index of DeepSurv is given by {ci_deepsurv[0]:.3f}')"
   ]
  },
  {
   "cell_type": "code",
   "execution_count": 42,
   "metadata": {},
   "outputs": [
    {
     "name": "stderr",
     "output_type": "stream",
     "text": [
      "% Completion: 100%|***********************************************|Loss: 318.72\n",
      "% Completion: 100%|***********************************************|Loss: 284.94\n",
      "% Completion: 100%|***********************************************|Loss: 322.11\n",
      "% Completion: 100%|***********************************************|Loss: 317.15\n",
      "% Completion: 100%|***********************************************|Loss: 317.55\n",
      "% Completion: 100%|***********************************************|Loss: 308.39\n",
      "% Completion: 100%|***********************************************|Loss: 322.02\n",
      "% Completion: 100%|***********************************************|Loss: 313.51\n",
      "% Completion: 100%|***********************************************|Loss: 294.14\n",
      "% Completion: 100%|***********************************************|Loss: 314.42\n",
      "% Completion: 100%|***********************************************|Loss: 329.07\n",
      "% Completion: 100%|***********************************************|Loss: 333.01\n",
      "% Completion: 100%|***********************************************|Loss: 308.42\n",
      "% Completion: 100%|***********************************************|Loss: 315.70\n",
      "% Completion: 100%|***********************************************|Loss: 302.93\n",
      "% Completion: 100%|***********************************************|Loss: 331.30\n",
      "% Completion: 100%|***********************************************|Loss: 346.74\n",
      "% Completion: 100%|***********************************************|Loss: 303.88\n",
      "% Completion: 100%|***********************************************|Loss: 321.01\n",
      "% Completion: 100%|***********************************************|Loss: 310.29\n",
      "% Completion: 100%|***********************************************|Loss: 308.03\n",
      "% Completion: 100%|***********************************************|Loss: 314.61\n",
      "% Completion: 100%|***********************************************|Loss: 322.02\n",
      "% Completion: 100%|***********************************************|Loss: 315.71\n",
      "% Completion: 100%|***********************************************|Loss: 296.68\n"
     ]
    }
   ],
   "source": [
    "nlc_scores = []\n",
    "\n",
    "for _seed in seeds:\n",
    "    \n",
    "    X_trn, X_val, y_trn, y_val = train_test_split(X, y, random_state=_seed)\n",
    "    X_trn1 = preprocessor.fit_transform(X_trn)\n",
    "    X_val1 = preprocessor.transform(X_val)\n",
    "    \n",
    "    nonlinear_coxph = NonLinearCoxPHModel(structure=structure)\n",
    "    nonlinear_coxph.fit(X_trn1, y_trn[\"time\"], y_trn[\"status\"])\n",
    "    nlc_scores.append(concordance_index_censored(y_val['status'], y_val[\"time\"], nonlinear_coxph.predict_risk(X_val1)))"
   ]
  },
  {
   "cell_type": "code",
   "execution_count": 43,
   "metadata": {},
   "outputs": [],
   "source": [
    "nlc_scores = [nlc_scores[i][0] for i in range(np.shape(nlc_scores)[0])]\n",
    "df_csv = pd.read_csv('scores.csv')\n",
    "df_csv['DeepSurv'] = pd.Series(nlc_scores)\n",
    "df_csv.to_csv('scores.csv', mode='w')"
   ]
  },
  {
   "cell_type": "markdown",
   "metadata": {},
   "source": [
    "## **RSF Adaptive NN**"
   ]
  },
  {
   "cell_type": "code",
   "execution_count": 44,
   "metadata": {},
   "outputs": [],
   "source": [
    "#Import results\n",
    "df_rsfann = pd.read_csv(r'rsfann_experiments10_cv(5,1)_cum_haz_table.csv')\n",
    "rsfann_scores = df_rsfann['cindex']\n",
    "\n",
    "df_csv = pd.read_csv('scores.csv')\n",
    "df_csv['RSFANN'] = pd.Series(rsfann_scores)\n",
    "df_csv.to_csv('scores.csv', mode='w')\n"
   ]
  },
  {
   "cell_type": "markdown",
   "metadata": {},
   "source": [
    "## **Concordance Index Comparison**"
   ]
  },
  {
   "cell_type": "code",
   "execution_count": 45,
   "metadata": {},
   "outputs": [
    {
     "name": "stdout",
     "output_type": "stream",
     "text": [
      "Random Search RSF model: Mean c-index: 0.840, standard deviation: 0.033\n",
      "Cox proportional hazards model: Mean c-index: 0.815, standard deviation: 0.036\n",
      "Random Search Cox PH model: Mean c-index:0.832, standard deviation: 0.034\n",
      "Random Survival Forest model: Mean c-index: 0.836, standard deviation: 0.032\n",
      "Gradient boosting Cox PH model: Mean c-index: 0.825, standard deviation: 0.030\n",
      "Random Search Gradient Boosting model: Mean c-index:0.822, standard deviation: 0.038\n",
      "Non linear Cox PH model: Mean c-index:  0.835, standard deviation: 0.033\n",
      "RSF Adaptative NN model: Mean c-index: 0.823, standard deviation: 0.021\n",
      "Weibull AFT model: Mean c-index:0.815, standard deviation: 0.035\n",
      "Aalen additive model: Mean c-index:0.808, standard deviation: 0.042\n"
     ]
    }
   ],
   "source": [
    "print(f'Random Search RSF model: Mean c-index: {np.mean(rsf_rs_scores):.3f}, standard deviation: {np.std(rsf_rs_scores):.3f}')\n",
    "print(f'Cox proportional hazards model: Mean c-index: {np.mean(cox_scores):.3f}, standard deviation: {np.std(cox_scores):.3f}')\n",
    "print(f'Random Search Cox PH model: Mean c-index:{np.mean(cox_rs_scores):.3f}, standard deviation: {np.std(cox_rs_scores):.3f}')\n",
    "print(f'Random Survival Forest model: Mean c-index: {np.mean(rsf_scores):.3f}, standard deviation: {np.std(rsf_scores):.3f}')\n",
    "print(f'Gradient boosting Cox PH model: Mean c-index: {np.mean(gbc_scores):.3f}, standard deviation: {np.std(gbc_scores):.3f}')\n",
    "print(f'Random Search Gradient Boosting model: Mean c-index:{np.mean(gbc_rs_scores):.3f}, standard deviation: {np.std(gbc_rs_scores):.3f}')\n",
    "print(f'Non linear Cox PH model: Mean c-index: {np.mean(nlc_scores): .3f}, standard deviation: {np.std(nlc_scores):.3f}')\n",
    "print(f'RSF Adaptative NN model: Mean c-index: {np.mean(rsfann_scores):.3f}, standard deviation: {np.std(rsfann_scores):.3f}')\n",
    "print(f'Weibull AFT model: Mean c-index:{np.mean(aft_scores):.3f}, standard deviation: {np.std(aft_scores):.3f}')\n",
    "print(f'Aalen additive model: Mean c-index:{np.mean(aa_scores):.3f}, standard deviation: {np.std(aa_scores):.3f}')"
   ]
  },
  {
   "cell_type": "code",
   "execution_count": 56,
   "metadata": {},
   "outputs": [
    {
     "data": {
      "image/png": "[encoded data removed]",
      "text/plain": [
       "<Figure size 720x504 with 1 Axes>"
      ]
     },
     "metadata": {},
     "output_type": "display_data"
    }
   ],
   "source": [
    "fig, ax = plt.subplots(figsize=(10,7))\n",
    "df_csv.boxplot(ax=ax, column = [ 'Aalen', 'AFT', 'Cox PH', 'RS GBC', 'RSFANN', 'GBC', 'RS Cox', 'DeepSurv' , 'RSF', 'RS RSF'],patch_artist = False, vert = False, showmeans = True)\n",
    "plt.savefig('Scores.png', format='png', dpi=100)\n",
    "plt.title('Concordance Index Comparison')\n",
    "plt.show()"
   ]
  },
  {
   "cell_type": "code",
   "execution_count": null,
   "metadata": {},
   "outputs": [],
   "source": []
  }
 ],
 "metadata": {
  "kernelspec": {
   "display_name": "Python 3",
   "language": "python",
   "name": "python3"
  },
  "language_info": {
   "codemirror_mode": {
    "name": "ipython",
    "version": 3
   },
   "file_extension": ".py",
   "mimetype": "text/x-python",
   "name": "python",
   "nbconvert_exporter": "python",
   "pygments_lexer": "ipython3",
   "version": "3.7.3"
  }
 },
 "nbformat": 4,
 "nbformat_minor": 2
}
